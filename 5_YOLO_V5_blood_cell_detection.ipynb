{
  "nbformat": 4,
  "nbformat_minor": 0,
  "metadata": {
    "colab": {
      "provenance": [],
      "include_colab_link": true
    },
    "kernelspec": {
      "name": "python3",
      "display_name": "Python 3"
    },
    "accelerator": "GPU"
  },
  "cells": [
    {
      "cell_type": "markdown",
      "metadata": {
        "id": "view-in-github",
        "colab_type": "text"
      },
      "source": [
        "<a href=\"https://colab.research.google.com/github/pejmanrasti/From_Shallow_to_Deep/blob/main/5_YOLO_V5_blood_cell_detection.ipynb\" target=\"_parent\"><img src=\"https://colab.research.google.com/assets/colab-badge.svg\" alt=\"Open In Colab\"/></a>"
      ]
    },
    {
      "cell_type": "code",
      "metadata": {
        "id": "hVcWncA_iJR9",
        "colab": {
          "base_uri": "https://localhost:8080/"
        },
        "outputId": "0b28a26c-a52a-4bf1-dfde-108a32c1c834"
      },
      "source": [
        "!git clone 'https://github.com/Shenggan/BCCD_Dataset.git'"
      ],
      "execution_count": 1,
      "outputs": [
        {
          "output_type": "stream",
          "name": "stdout",
          "text": [
            "Cloning into 'BCCD_Dataset'...\n",
            "remote: Enumerating objects: 800, done.\u001b[K\n",
            "remote: Total 800 (delta 0), reused 0 (delta 0), pack-reused 800\u001b[K\n",
            "Receiving objects: 100% (800/800), 7.39 MiB | 32.60 MiB/s, done.\n",
            "Resolving deltas: 100% (378/378), done.\n"
          ]
        }
      ]
    },
    {
      "cell_type": "markdown",
      "metadata": {
        "id": "H4e9h0HfVA30"
      },
      "source": [
        "#**DATA PRE-PROCESSING STARTS**"
      ]
    },
    {
      "cell_type": "markdown",
      "metadata": {
        "id": "iccVsnt7VJk1"
      },
      "source": [
        "# Extraction of data labels from .xml file to dataframe"
      ]
    },
    {
      "cell_type": "code",
      "metadata": {
        "id": "Qj5wjt0-fRbS"
      },
      "source": [
        "import shutil\n",
        "import os, sys, random\n",
        "import xml.etree.ElementTree as ET\n",
        "from glob import glob\n",
        "import pandas as pd\n",
        "from shutil import copyfile\n",
        "import pandas as pd\n",
        "from sklearn import preprocessing, model_selection\n",
        "import matplotlib.pyplot as plt\n",
        "%matplotlib inline\n",
        "from matplotlib import patches\n",
        "import numpy as np\n",
        "import os"
      ],
      "execution_count": 2,
      "outputs": []
    },
    {
      "cell_type": "code",
      "metadata": {
        "id": "4_8R_DIIiQEY"
      },
      "source": [
        "annotations = sorted(glob('/content/BCCD_Dataset/BCCD/Annotations/*.xml'))\n",
        "\n",
        "df = []\n",
        "cnt = 0\n",
        "for file in annotations:\n",
        "  prev_filename = file.split('/')[-1].split('.')[0] + '.jpg'\n",
        "  filename = str(cnt) + '.jpg'\n",
        "  row = []\n",
        "  parsedXML = ET.parse(file)\n",
        "  for node in parsedXML.getroot().iter('object'):\n",
        "    blood_cells = node.find('name').text\n",
        "    xmin = int(node.find('bndbox/xmin').text)\n",
        "    xmax = int(node.find('bndbox/xmax').text)\n",
        "    ymin = int(node.find('bndbox/ymin').text)\n",
        "    ymax = int(node.find('bndbox/ymax').text)\n",
        "\n",
        "    row = [prev_filename, filename, blood_cells, xmin, xmax, ymin, ymax]\n",
        "    df.append(row)\n",
        "  cnt += 1\n",
        "\n",
        "data = pd.DataFrame(df, columns=['prev_filename', 'filename', 'cell_type', 'xmin', 'xmax', 'ymin', 'ymax'])\n",
        "\n",
        "data[['prev_filename','filename', 'cell_type', 'xmin', 'xmax', 'ymin', 'ymax']].to_csv('/content/blood_cell_detection.csv', index=False)\n"
      ],
      "execution_count": null,
      "outputs": []
    },
    {
      "cell_type": "markdown",
      "metadata": {
        "id": "_6cRsoE6VRAD"
      },
      "source": [
        "# Processing data as per the YOLO_V5 format"
      ]
    },
    {
      "cell_type": "markdown",
      "metadata": {
        "id": "Onr1Vqm4x4qz"
      },
      "source": [
        "**DATAFRAME STRUCTURE**\n",
        "\n",
        "- filename : contains the name of the image\n",
        "- cell_type: denotes the type of the cell\n",
        "- xmin: x-coordinate of the bottom left part of the image\n",
        "- xmax: x-coordinate of the top right part of the image\n",
        "- ymin: y-coordinate of the bottom left part of the image\n",
        "- ymax: y-coordinate of the top right part of the image\n",
        "- labels : Encoded cell-type **(Yolo - label input-1)**\n",
        "- width : width of that bbox\n",
        "- height : height of that bbox\n",
        "- x_center : bbox center (x-axis)\n",
        "-\ty_center : bbox center (y-axis)\n",
        "-\tx_center_norm\t: x_center normalized (0-1) **(Yolo - label input-2)**\n",
        "-\ty_center_norm : y_center normalized (0-1) **(Yolo - label input-3)**\n",
        "- width_norm : width normalized (0-1) **(Yolo - label input-4)**\n",
        "-\theight_norm : height normalized (0-1) **(Yolo - label input-5)**"
      ]
    },
    {
      "cell_type": "code",
      "metadata": {
        "id": "2rybfBj3mwBV",
        "colab": {
          "base_uri": "https://localhost:8080/",
          "height": 1000
        },
        "outputId": "9cdf9443-6333-4a5a-8993-68d3ea3a88ab"
      },
      "source": [
        "img_width = 640\n",
        "img_height = 480\n",
        "\n",
        "def width(df):\n",
        "  return int(df.xmax - df.xmin)\n",
        "def height(df):\n",
        "  return int(df.ymax - df.ymin)\n",
        "def x_center(df):\n",
        "  return int(df.xmin + (df.width/2))\n",
        "def y_center(df):\n",
        "  return int(df.ymin + (df.height/2))\n",
        "def w_norm(df):\n",
        "  return df/img_width\n",
        "def h_norm(df):\n",
        "  return df/img_height\n",
        "\n",
        "df = pd.read_csv('/content/blood_cell_detection.csv')\n",
        "\n",
        "le = preprocessing.LabelEncoder()\n",
        "le.fit(df['cell_type'])\n",
        "print(le.classes_)\n",
        "labels = le.transform(df['cell_type'])\n",
        "df['labels'] = labels\n",
        "\n",
        "df['width'] = df.apply(width, axis=1)\n",
        "df['height'] = df.apply(height, axis=1)\n",
        "\n",
        "df['x_center'] = df.apply(x_center, axis=1)\n",
        "df['y_center'] = df.apply(y_center, axis=1)\n",
        "\n",
        "df['x_center_norm'] = df['x_center'].apply(w_norm)\n",
        "df['width_norm'] = df['width'].apply(w_norm)\n",
        "\n",
        "df['y_center_norm'] = df['y_center'].apply(h_norm)\n",
        "df['height_norm'] = df['height'].apply(h_norm)\n",
        "\n",
        "df.head(30)"
      ],
      "execution_count": null,
      "outputs": [
        {
          "output_type": "stream",
          "name": "stdout",
          "text": [
            "['Platelets' 'RBC' 'WBC']\n"
          ]
        },
        {
          "output_type": "execute_result",
          "data": {
            "text/plain": [
              "           prev_filename filename cell_type  xmin  xmax  ymin  ymax  labels  \\\n",
              "0   BloodImage_00000.jpg    0.jpg       WBC   260   491   177   376       2   \n",
              "1   BloodImage_00000.jpg    0.jpg       RBC    78   184   336   435       1   \n",
              "2   BloodImage_00000.jpg    0.jpg       RBC    63   169   237   336       1   \n",
              "3   BloodImage_00000.jpg    0.jpg       RBC   214   320   362   461       1   \n",
              "4   BloodImage_00000.jpg    0.jpg       RBC   414   506   352   445       1   \n",
              "5   BloodImage_00000.jpg    0.jpg       RBC   555   640   356   455       1   \n",
              "6   BloodImage_00000.jpg    0.jpg       RBC   469   567   412   480       1   \n",
              "7   BloodImage_00000.jpg    0.jpg       RBC     1    87   333   437       1   \n",
              "8   BloodImage_00000.jpg    0.jpg       RBC     4    95   406   480       1   \n",
              "9   BloodImage_00000.jpg    0.jpg       RBC   155   247    74   174       1   \n",
              "10  BloodImage_00000.jpg    0.jpg       RBC    11   104    84   162       1   \n",
              "11  BloodImage_00000.jpg    0.jpg       RBC   534   639    39   139       1   \n",
              "12  BloodImage_00000.jpg    0.jpg       RBC   547   640   195   295       1   \n",
              "13  BloodImage_00000.jpg    0.jpg       RBC   388   481    11   111       1   \n",
              "14  BloodImage_00000.jpg    0.jpg       RBC   171   264   175   275       1   \n",
              "15  BloodImage_00000.jpg    0.jpg       RBC   260   374     1    83       1   \n",
              "16  BloodImage_00000.jpg    0.jpg       RBC   229   343    91   174       1   \n",
              "17  BloodImage_00000.jpg    0.jpg       RBC    69   184   144   235       1   \n",
              "18  BloodImage_00000.jpg    0.jpg       RBC   482   594   131   230       1   \n",
              "19  BloodImage_00000.jpg    0.jpg       RBC   368   464    89   176       1   \n",
              "20  BloodImage_00001.jpg    1.jpg       WBC    68   286   315   480       2   \n",
              "21  BloodImage_00001.jpg    1.jpg       RBC   346   446   361   454       1   \n",
              "22  BloodImage_00001.jpg    1.jpg       RBC    53   146   179   299       1   \n",
              "23  BloodImage_00001.jpg    1.jpg       RBC   449   536   400   480       1   \n",
              "24  BloodImage_00001.jpg    1.jpg       RBC   461   548   132   212       1   \n",
              "25  BloodImage_00001.jpg    1.jpg       RBC   454   541   295   375       1   \n",
              "26  BloodImage_00001.jpg    1.jpg       RBC   417   508   283   383       1   \n",
              "27  BloodImage_00001.jpg    1.jpg       RBC   278   369   342   451       1   \n",
              "28  BloodImage_00001.jpg    1.jpg       RBC   545   636    62   159       1   \n",
              "29  BloodImage_00001.jpg    1.jpg       RBC   485   576    91   188       1   \n",
              "\n",
              "    width  height  x_center  y_center  x_center_norm  width_norm  \\\n",
              "0     231     199       375       276       0.585938    0.360938   \n",
              "1     106      99       131       385       0.204687    0.165625   \n",
              "2     106      99       116       286       0.181250    0.165625   \n",
              "3     106      99       267       411       0.417187    0.165625   \n",
              "4      92      93       460       398       0.718750    0.143750   \n",
              "5      85      99       597       405       0.932813    0.132812   \n",
              "6      98      68       518       446       0.809375    0.153125   \n",
              "7      86     104        44       385       0.068750    0.134375   \n",
              "8      91      74        49       443       0.076563    0.142187   \n",
              "9      92     100       201       124       0.314063    0.143750   \n",
              "10     93      78        57       123       0.089063    0.145313   \n",
              "11    105     100       586        89       0.915625    0.164062   \n",
              "12     93     100       593       245       0.926562    0.145313   \n",
              "13     93     100       434        61       0.678125    0.145313   \n",
              "14     93     100       217       225       0.339062    0.145313   \n",
              "15    114      82       317        42       0.495312    0.178125   \n",
              "16    114      83       286       132       0.446875    0.178125   \n",
              "17    115      91       126       189       0.196875    0.179688   \n",
              "18    112      99       538       180       0.840625    0.175000   \n",
              "19     96      87       416       132       0.650000    0.150000   \n",
              "20    218     165       177       397       0.276562    0.340625   \n",
              "21    100      93       396       407       0.618750    0.156250   \n",
              "22     93     120        99       239       0.154688    0.145313   \n",
              "23     87      80       492       440       0.768750    0.135937   \n",
              "24     87      80       504       172       0.787500    0.135937   \n",
              "25     87      80       497       335       0.776563    0.135937   \n",
              "26     91     100       462       333       0.721875    0.142187   \n",
              "27     91     109       323       396       0.504687    0.142187   \n",
              "28     91      97       590       110       0.921875    0.142187   \n",
              "29     91      97       530       139       0.828125    0.142187   \n",
              "\n",
              "    y_center_norm  height_norm  \n",
              "0        0.575000     0.414583  \n",
              "1        0.802083     0.206250  \n",
              "2        0.595833     0.206250  \n",
              "3        0.856250     0.206250  \n",
              "4        0.829167     0.193750  \n",
              "5        0.843750     0.206250  \n",
              "6        0.929167     0.141667  \n",
              "7        0.802083     0.216667  \n",
              "8        0.922917     0.154167  \n",
              "9        0.258333     0.208333  \n",
              "10       0.256250     0.162500  \n",
              "11       0.185417     0.208333  \n",
              "12       0.510417     0.208333  \n",
              "13       0.127083     0.208333  \n",
              "14       0.468750     0.208333  \n",
              "15       0.087500     0.170833  \n",
              "16       0.275000     0.172917  \n",
              "17       0.393750     0.189583  \n",
              "18       0.375000     0.206250  \n",
              "19       0.275000     0.181250  \n",
              "20       0.827083     0.343750  \n",
              "21       0.847917     0.193750  \n",
              "22       0.497917     0.250000  \n",
              "23       0.916667     0.166667  \n",
              "24       0.358333     0.166667  \n",
              "25       0.697917     0.166667  \n",
              "26       0.693750     0.208333  \n",
              "27       0.825000     0.227083  \n",
              "28       0.229167     0.202083  \n",
              "29       0.289583     0.202083  "
            ],
            "text/html": [
              "\n",
              "  <div id=\"df-64492d8d-f91f-4a06-ab1b-c57abae585da\">\n",
              "    <div class=\"colab-df-container\">\n",
              "      <div>\n",
              "<style scoped>\n",
              "    .dataframe tbody tr th:only-of-type {\n",
              "        vertical-align: middle;\n",
              "    }\n",
              "\n",
              "    .dataframe tbody tr th {\n",
              "        vertical-align: top;\n",
              "    }\n",
              "\n",
              "    .dataframe thead th {\n",
              "        text-align: right;\n",
              "    }\n",
              "</style>\n",
              "<table border=\"1\" class=\"dataframe\">\n",
              "  <thead>\n",
              "    <tr style=\"text-align: right;\">\n",
              "      <th></th>\n",
              "      <th>prev_filename</th>\n",
              "      <th>filename</th>\n",
              "      <th>cell_type</th>\n",
              "      <th>xmin</th>\n",
              "      <th>xmax</th>\n",
              "      <th>ymin</th>\n",
              "      <th>ymax</th>\n",
              "      <th>labels</th>\n",
              "      <th>width</th>\n",
              "      <th>height</th>\n",
              "      <th>x_center</th>\n",
              "      <th>y_center</th>\n",
              "      <th>x_center_norm</th>\n",
              "      <th>width_norm</th>\n",
              "      <th>y_center_norm</th>\n",
              "      <th>height_norm</th>\n",
              "    </tr>\n",
              "  </thead>\n",
              "  <tbody>\n",
              "    <tr>\n",
              "      <th>0</th>\n",
              "      <td>BloodImage_00000.jpg</td>\n",
              "      <td>0.jpg</td>\n",
              "      <td>WBC</td>\n",
              "      <td>260</td>\n",
              "      <td>491</td>\n",
              "      <td>177</td>\n",
              "      <td>376</td>\n",
              "      <td>2</td>\n",
              "      <td>231</td>\n",
              "      <td>199</td>\n",
              "      <td>375</td>\n",
              "      <td>276</td>\n",
              "      <td>0.585938</td>\n",
              "      <td>0.360938</td>\n",
              "      <td>0.575000</td>\n",
              "      <td>0.414583</td>\n",
              "    </tr>\n",
              "    <tr>\n",
              "      <th>1</th>\n",
              "      <td>BloodImage_00000.jpg</td>\n",
              "      <td>0.jpg</td>\n",
              "      <td>RBC</td>\n",
              "      <td>78</td>\n",
              "      <td>184</td>\n",
              "      <td>336</td>\n",
              "      <td>435</td>\n",
              "      <td>1</td>\n",
              "      <td>106</td>\n",
              "      <td>99</td>\n",
              "      <td>131</td>\n",
              "      <td>385</td>\n",
              "      <td>0.204687</td>\n",
              "      <td>0.165625</td>\n",
              "      <td>0.802083</td>\n",
              "      <td>0.206250</td>\n",
              "    </tr>\n",
              "    <tr>\n",
              "      <th>2</th>\n",
              "      <td>BloodImage_00000.jpg</td>\n",
              "      <td>0.jpg</td>\n",
              "      <td>RBC</td>\n",
              "      <td>63</td>\n",
              "      <td>169</td>\n",
              "      <td>237</td>\n",
              "      <td>336</td>\n",
              "      <td>1</td>\n",
              "      <td>106</td>\n",
              "      <td>99</td>\n",
              "      <td>116</td>\n",
              "      <td>286</td>\n",
              "      <td>0.181250</td>\n",
              "      <td>0.165625</td>\n",
              "      <td>0.595833</td>\n",
              "      <td>0.206250</td>\n",
              "    </tr>\n",
              "    <tr>\n",
              "      <th>3</th>\n",
              "      <td>BloodImage_00000.jpg</td>\n",
              "      <td>0.jpg</td>\n",
              "      <td>RBC</td>\n",
              "      <td>214</td>\n",
              "      <td>320</td>\n",
              "      <td>362</td>\n",
              "      <td>461</td>\n",
              "      <td>1</td>\n",
              "      <td>106</td>\n",
              "      <td>99</td>\n",
              "      <td>267</td>\n",
              "      <td>411</td>\n",
              "      <td>0.417187</td>\n",
              "      <td>0.165625</td>\n",
              "      <td>0.856250</td>\n",
              "      <td>0.206250</td>\n",
              "    </tr>\n",
              "    <tr>\n",
              "      <th>4</th>\n",
              "      <td>BloodImage_00000.jpg</td>\n",
              "      <td>0.jpg</td>\n",
              "      <td>RBC</td>\n",
              "      <td>414</td>\n",
              "      <td>506</td>\n",
              "      <td>352</td>\n",
              "      <td>445</td>\n",
              "      <td>1</td>\n",
              "      <td>92</td>\n",
              "      <td>93</td>\n",
              "      <td>460</td>\n",
              "      <td>398</td>\n",
              "      <td>0.718750</td>\n",
              "      <td>0.143750</td>\n",
              "      <td>0.829167</td>\n",
              "      <td>0.193750</td>\n",
              "    </tr>\n",
              "    <tr>\n",
              "      <th>5</th>\n",
              "      <td>BloodImage_00000.jpg</td>\n",
              "      <td>0.jpg</td>\n",
              "      <td>RBC</td>\n",
              "      <td>555</td>\n",
              "      <td>640</td>\n",
              "      <td>356</td>\n",
              "      <td>455</td>\n",
              "      <td>1</td>\n",
              "      <td>85</td>\n",
              "      <td>99</td>\n",
              "      <td>597</td>\n",
              "      <td>405</td>\n",
              "      <td>0.932813</td>\n",
              "      <td>0.132812</td>\n",
              "      <td>0.843750</td>\n",
              "      <td>0.206250</td>\n",
              "    </tr>\n",
              "    <tr>\n",
              "      <th>6</th>\n",
              "      <td>BloodImage_00000.jpg</td>\n",
              "      <td>0.jpg</td>\n",
              "      <td>RBC</td>\n",
              "      <td>469</td>\n",
              "      <td>567</td>\n",
              "      <td>412</td>\n",
              "      <td>480</td>\n",
              "      <td>1</td>\n",
              "      <td>98</td>\n",
              "      <td>68</td>\n",
              "      <td>518</td>\n",
              "      <td>446</td>\n",
              "      <td>0.809375</td>\n",
              "      <td>0.153125</td>\n",
              "      <td>0.929167</td>\n",
              "      <td>0.141667</td>\n",
              "    </tr>\n",
              "    <tr>\n",
              "      <th>7</th>\n",
              "      <td>BloodImage_00000.jpg</td>\n",
              "      <td>0.jpg</td>\n",
              "      <td>RBC</td>\n",
              "      <td>1</td>\n",
              "      <td>87</td>\n",
              "      <td>333</td>\n",
              "      <td>437</td>\n",
              "      <td>1</td>\n",
              "      <td>86</td>\n",
              "      <td>104</td>\n",
              "      <td>44</td>\n",
              "      <td>385</td>\n",
              "      <td>0.068750</td>\n",
              "      <td>0.134375</td>\n",
              "      <td>0.802083</td>\n",
              "      <td>0.216667</td>\n",
              "    </tr>\n",
              "    <tr>\n",
              "      <th>8</th>\n",
              "      <td>BloodImage_00000.jpg</td>\n",
              "      <td>0.jpg</td>\n",
              "      <td>RBC</td>\n",
              "      <td>4</td>\n",
              "      <td>95</td>\n",
              "      <td>406</td>\n",
              "      <td>480</td>\n",
              "      <td>1</td>\n",
              "      <td>91</td>\n",
              "      <td>74</td>\n",
              "      <td>49</td>\n",
              "      <td>443</td>\n",
              "      <td>0.076563</td>\n",
              "      <td>0.142187</td>\n",
              "      <td>0.922917</td>\n",
              "      <td>0.154167</td>\n",
              "    </tr>\n",
              "    <tr>\n",
              "      <th>9</th>\n",
              "      <td>BloodImage_00000.jpg</td>\n",
              "      <td>0.jpg</td>\n",
              "      <td>RBC</td>\n",
              "      <td>155</td>\n",
              "      <td>247</td>\n",
              "      <td>74</td>\n",
              "      <td>174</td>\n",
              "      <td>1</td>\n",
              "      <td>92</td>\n",
              "      <td>100</td>\n",
              "      <td>201</td>\n",
              "      <td>124</td>\n",
              "      <td>0.314063</td>\n",
              "      <td>0.143750</td>\n",
              "      <td>0.258333</td>\n",
              "      <td>0.208333</td>\n",
              "    </tr>\n",
              "    <tr>\n",
              "      <th>10</th>\n",
              "      <td>BloodImage_00000.jpg</td>\n",
              "      <td>0.jpg</td>\n",
              "      <td>RBC</td>\n",
              "      <td>11</td>\n",
              "      <td>104</td>\n",
              "      <td>84</td>\n",
              "      <td>162</td>\n",
              "      <td>1</td>\n",
              "      <td>93</td>\n",
              "      <td>78</td>\n",
              "      <td>57</td>\n",
              "      <td>123</td>\n",
              "      <td>0.089063</td>\n",
              "      <td>0.145313</td>\n",
              "      <td>0.256250</td>\n",
              "      <td>0.162500</td>\n",
              "    </tr>\n",
              "    <tr>\n",
              "      <th>11</th>\n",
              "      <td>BloodImage_00000.jpg</td>\n",
              "      <td>0.jpg</td>\n",
              "      <td>RBC</td>\n",
              "      <td>534</td>\n",
              "      <td>639</td>\n",
              "      <td>39</td>\n",
              "      <td>139</td>\n",
              "      <td>1</td>\n",
              "      <td>105</td>\n",
              "      <td>100</td>\n",
              "      <td>586</td>\n",
              "      <td>89</td>\n",
              "      <td>0.915625</td>\n",
              "      <td>0.164062</td>\n",
              "      <td>0.185417</td>\n",
              "      <td>0.208333</td>\n",
              "    </tr>\n",
              "    <tr>\n",
              "      <th>12</th>\n",
              "      <td>BloodImage_00000.jpg</td>\n",
              "      <td>0.jpg</td>\n",
              "      <td>RBC</td>\n",
              "      <td>547</td>\n",
              "      <td>640</td>\n",
              "      <td>195</td>\n",
              "      <td>295</td>\n",
              "      <td>1</td>\n",
              "      <td>93</td>\n",
              "      <td>100</td>\n",
              "      <td>593</td>\n",
              "      <td>245</td>\n",
              "      <td>0.926562</td>\n",
              "      <td>0.145313</td>\n",
              "      <td>0.510417</td>\n",
              "      <td>0.208333</td>\n",
              "    </tr>\n",
              "    <tr>\n",
              "      <th>13</th>\n",
              "      <td>BloodImage_00000.jpg</td>\n",
              "      <td>0.jpg</td>\n",
              "      <td>RBC</td>\n",
              "      <td>388</td>\n",
              "      <td>481</td>\n",
              "      <td>11</td>\n",
              "      <td>111</td>\n",
              "      <td>1</td>\n",
              "      <td>93</td>\n",
              "      <td>100</td>\n",
              "      <td>434</td>\n",
              "      <td>61</td>\n",
              "      <td>0.678125</td>\n",
              "      <td>0.145313</td>\n",
              "      <td>0.127083</td>\n",
              "      <td>0.208333</td>\n",
              "    </tr>\n",
              "    <tr>\n",
              "      <th>14</th>\n",
              "      <td>BloodImage_00000.jpg</td>\n",
              "      <td>0.jpg</td>\n",
              "      <td>RBC</td>\n",
              "      <td>171</td>\n",
              "      <td>264</td>\n",
              "      <td>175</td>\n",
              "      <td>275</td>\n",
              "      <td>1</td>\n",
              "      <td>93</td>\n",
              "      <td>100</td>\n",
              "      <td>217</td>\n",
              "      <td>225</td>\n",
              "      <td>0.339062</td>\n",
              "      <td>0.145313</td>\n",
              "      <td>0.468750</td>\n",
              "      <td>0.208333</td>\n",
              "    </tr>\n",
              "    <tr>\n",
              "      <th>15</th>\n",
              "      <td>BloodImage_00000.jpg</td>\n",
              "      <td>0.jpg</td>\n",
              "      <td>RBC</td>\n",
              "      <td>260</td>\n",
              "      <td>374</td>\n",
              "      <td>1</td>\n",
              "      <td>83</td>\n",
              "      <td>1</td>\n",
              "      <td>114</td>\n",
              "      <td>82</td>\n",
              "      <td>317</td>\n",
              "      <td>42</td>\n",
              "      <td>0.495312</td>\n",
              "      <td>0.178125</td>\n",
              "      <td>0.087500</td>\n",
              "      <td>0.170833</td>\n",
              "    </tr>\n",
              "    <tr>\n",
              "      <th>16</th>\n",
              "      <td>BloodImage_00000.jpg</td>\n",
              "      <td>0.jpg</td>\n",
              "      <td>RBC</td>\n",
              "      <td>229</td>\n",
              "      <td>343</td>\n",
              "      <td>91</td>\n",
              "      <td>174</td>\n",
              "      <td>1</td>\n",
              "      <td>114</td>\n",
              "      <td>83</td>\n",
              "      <td>286</td>\n",
              "      <td>132</td>\n",
              "      <td>0.446875</td>\n",
              "      <td>0.178125</td>\n",
              "      <td>0.275000</td>\n",
              "      <td>0.172917</td>\n",
              "    </tr>\n",
              "    <tr>\n",
              "      <th>17</th>\n",
              "      <td>BloodImage_00000.jpg</td>\n",
              "      <td>0.jpg</td>\n",
              "      <td>RBC</td>\n",
              "      <td>69</td>\n",
              "      <td>184</td>\n",
              "      <td>144</td>\n",
              "      <td>235</td>\n",
              "      <td>1</td>\n",
              "      <td>115</td>\n",
              "      <td>91</td>\n",
              "      <td>126</td>\n",
              "      <td>189</td>\n",
              "      <td>0.196875</td>\n",
              "      <td>0.179688</td>\n",
              "      <td>0.393750</td>\n",
              "      <td>0.189583</td>\n",
              "    </tr>\n",
              "    <tr>\n",
              "      <th>18</th>\n",
              "      <td>BloodImage_00000.jpg</td>\n",
              "      <td>0.jpg</td>\n",
              "      <td>RBC</td>\n",
              "      <td>482</td>\n",
              "      <td>594</td>\n",
              "      <td>131</td>\n",
              "      <td>230</td>\n",
              "      <td>1</td>\n",
              "      <td>112</td>\n",
              "      <td>99</td>\n",
              "      <td>538</td>\n",
              "      <td>180</td>\n",
              "      <td>0.840625</td>\n",
              "      <td>0.175000</td>\n",
              "      <td>0.375000</td>\n",
              "      <td>0.206250</td>\n",
              "    </tr>\n",
              "    <tr>\n",
              "      <th>19</th>\n",
              "      <td>BloodImage_00000.jpg</td>\n",
              "      <td>0.jpg</td>\n",
              "      <td>RBC</td>\n",
              "      <td>368</td>\n",
              "      <td>464</td>\n",
              "      <td>89</td>\n",
              "      <td>176</td>\n",
              "      <td>1</td>\n",
              "      <td>96</td>\n",
              "      <td>87</td>\n",
              "      <td>416</td>\n",
              "      <td>132</td>\n",
              "      <td>0.650000</td>\n",
              "      <td>0.150000</td>\n",
              "      <td>0.275000</td>\n",
              "      <td>0.181250</td>\n",
              "    </tr>\n",
              "    <tr>\n",
              "      <th>20</th>\n",
              "      <td>BloodImage_00001.jpg</td>\n",
              "      <td>1.jpg</td>\n",
              "      <td>WBC</td>\n",
              "      <td>68</td>\n",
              "      <td>286</td>\n",
              "      <td>315</td>\n",
              "      <td>480</td>\n",
              "      <td>2</td>\n",
              "      <td>218</td>\n",
              "      <td>165</td>\n",
              "      <td>177</td>\n",
              "      <td>397</td>\n",
              "      <td>0.276562</td>\n",
              "      <td>0.340625</td>\n",
              "      <td>0.827083</td>\n",
              "      <td>0.343750</td>\n",
              "    </tr>\n",
              "    <tr>\n",
              "      <th>21</th>\n",
              "      <td>BloodImage_00001.jpg</td>\n",
              "      <td>1.jpg</td>\n",
              "      <td>RBC</td>\n",
              "      <td>346</td>\n",
              "      <td>446</td>\n",
              "      <td>361</td>\n",
              "      <td>454</td>\n",
              "      <td>1</td>\n",
              "      <td>100</td>\n",
              "      <td>93</td>\n",
              "      <td>396</td>\n",
              "      <td>407</td>\n",
              "      <td>0.618750</td>\n",
              "      <td>0.156250</td>\n",
              "      <td>0.847917</td>\n",
              "      <td>0.193750</td>\n",
              "    </tr>\n",
              "    <tr>\n",
              "      <th>22</th>\n",
              "      <td>BloodImage_00001.jpg</td>\n",
              "      <td>1.jpg</td>\n",
              "      <td>RBC</td>\n",
              "      <td>53</td>\n",
              "      <td>146</td>\n",
              "      <td>179</td>\n",
              "      <td>299</td>\n",
              "      <td>1</td>\n",
              "      <td>93</td>\n",
              "      <td>120</td>\n",
              "      <td>99</td>\n",
              "      <td>239</td>\n",
              "      <td>0.154688</td>\n",
              "      <td>0.145313</td>\n",
              "      <td>0.497917</td>\n",
              "      <td>0.250000</td>\n",
              "    </tr>\n",
              "    <tr>\n",
              "      <th>23</th>\n",
              "      <td>BloodImage_00001.jpg</td>\n",
              "      <td>1.jpg</td>\n",
              "      <td>RBC</td>\n",
              "      <td>449</td>\n",
              "      <td>536</td>\n",
              "      <td>400</td>\n",
              "      <td>480</td>\n",
              "      <td>1</td>\n",
              "      <td>87</td>\n",
              "      <td>80</td>\n",
              "      <td>492</td>\n",
              "      <td>440</td>\n",
              "      <td>0.768750</td>\n",
              "      <td>0.135937</td>\n",
              "      <td>0.916667</td>\n",
              "      <td>0.166667</td>\n",
              "    </tr>\n",
              "    <tr>\n",
              "      <th>24</th>\n",
              "      <td>BloodImage_00001.jpg</td>\n",
              "      <td>1.jpg</td>\n",
              "      <td>RBC</td>\n",
              "      <td>461</td>\n",
              "      <td>548</td>\n",
              "      <td>132</td>\n",
              "      <td>212</td>\n",
              "      <td>1</td>\n",
              "      <td>87</td>\n",
              "      <td>80</td>\n",
              "      <td>504</td>\n",
              "      <td>172</td>\n",
              "      <td>0.787500</td>\n",
              "      <td>0.135937</td>\n",
              "      <td>0.358333</td>\n",
              "      <td>0.166667</td>\n",
              "    </tr>\n",
              "    <tr>\n",
              "      <th>25</th>\n",
              "      <td>BloodImage_00001.jpg</td>\n",
              "      <td>1.jpg</td>\n",
              "      <td>RBC</td>\n",
              "      <td>454</td>\n",
              "      <td>541</td>\n",
              "      <td>295</td>\n",
              "      <td>375</td>\n",
              "      <td>1</td>\n",
              "      <td>87</td>\n",
              "      <td>80</td>\n",
              "      <td>497</td>\n",
              "      <td>335</td>\n",
              "      <td>0.776563</td>\n",
              "      <td>0.135937</td>\n",
              "      <td>0.697917</td>\n",
              "      <td>0.166667</td>\n",
              "    </tr>\n",
              "    <tr>\n",
              "      <th>26</th>\n",
              "      <td>BloodImage_00001.jpg</td>\n",
              "      <td>1.jpg</td>\n",
              "      <td>RBC</td>\n",
              "      <td>417</td>\n",
              "      <td>508</td>\n",
              "      <td>283</td>\n",
              "      <td>383</td>\n",
              "      <td>1</td>\n",
              "      <td>91</td>\n",
              "      <td>100</td>\n",
              "      <td>462</td>\n",
              "      <td>333</td>\n",
              "      <td>0.721875</td>\n",
              "      <td>0.142187</td>\n",
              "      <td>0.693750</td>\n",
              "      <td>0.208333</td>\n",
              "    </tr>\n",
              "    <tr>\n",
              "      <th>27</th>\n",
              "      <td>BloodImage_00001.jpg</td>\n",
              "      <td>1.jpg</td>\n",
              "      <td>RBC</td>\n",
              "      <td>278</td>\n",
              "      <td>369</td>\n",
              "      <td>342</td>\n",
              "      <td>451</td>\n",
              "      <td>1</td>\n",
              "      <td>91</td>\n",
              "      <td>109</td>\n",
              "      <td>323</td>\n",
              "      <td>396</td>\n",
              "      <td>0.504687</td>\n",
              "      <td>0.142187</td>\n",
              "      <td>0.825000</td>\n",
              "      <td>0.227083</td>\n",
              "    </tr>\n",
              "    <tr>\n",
              "      <th>28</th>\n",
              "      <td>BloodImage_00001.jpg</td>\n",
              "      <td>1.jpg</td>\n",
              "      <td>RBC</td>\n",
              "      <td>545</td>\n",
              "      <td>636</td>\n",
              "      <td>62</td>\n",
              "      <td>159</td>\n",
              "      <td>1</td>\n",
              "      <td>91</td>\n",
              "      <td>97</td>\n",
              "      <td>590</td>\n",
              "      <td>110</td>\n",
              "      <td>0.921875</td>\n",
              "      <td>0.142187</td>\n",
              "      <td>0.229167</td>\n",
              "      <td>0.202083</td>\n",
              "    </tr>\n",
              "    <tr>\n",
              "      <th>29</th>\n",
              "      <td>BloodImage_00001.jpg</td>\n",
              "      <td>1.jpg</td>\n",
              "      <td>RBC</td>\n",
              "      <td>485</td>\n",
              "      <td>576</td>\n",
              "      <td>91</td>\n",
              "      <td>188</td>\n",
              "      <td>1</td>\n",
              "      <td>91</td>\n",
              "      <td>97</td>\n",
              "      <td>530</td>\n",
              "      <td>139</td>\n",
              "      <td>0.828125</td>\n",
              "      <td>0.142187</td>\n",
              "      <td>0.289583</td>\n",
              "      <td>0.202083</td>\n",
              "    </tr>\n",
              "  </tbody>\n",
              "</table>\n",
              "</div>\n",
              "      <button class=\"colab-df-convert\" onclick=\"convertToInteractive('df-64492d8d-f91f-4a06-ab1b-c57abae585da')\"\n",
              "              title=\"Convert this dataframe to an interactive table.\"\n",
              "              style=\"display:none;\">\n",
              "        \n",
              "  <svg xmlns=\"http://www.w3.org/2000/svg\" height=\"24px\"viewBox=\"0 0 24 24\"\n",
              "       width=\"24px\">\n",
              "    <path d=\"M0 0h24v24H0V0z\" fill=\"none\"/>\n",
              "    <path d=\"M18.56 5.44l.94 2.06.94-2.06 2.06-.94-2.06-.94-.94-2.06-.94 2.06-2.06.94zm-11 1L8.5 8.5l.94-2.06 2.06-.94-2.06-.94L8.5 2.5l-.94 2.06-2.06.94zm10 10l.94 2.06.94-2.06 2.06-.94-2.06-.94-.94-2.06-.94 2.06-2.06.94z\"/><path d=\"M17.41 7.96l-1.37-1.37c-.4-.4-.92-.59-1.43-.59-.52 0-1.04.2-1.43.59L10.3 9.45l-7.72 7.72c-.78.78-.78 2.05 0 2.83L4 21.41c.39.39.9.59 1.41.59.51 0 1.02-.2 1.41-.59l7.78-7.78 2.81-2.81c.8-.78.8-2.07 0-2.86zM5.41 20L4 18.59l7.72-7.72 1.47 1.35L5.41 20z\"/>\n",
              "  </svg>\n",
              "      </button>\n",
              "      \n",
              "  <style>\n",
              "    .colab-df-container {\n",
              "      display:flex;\n",
              "      flex-wrap:wrap;\n",
              "      gap: 12px;\n",
              "    }\n",
              "\n",
              "    .colab-df-convert {\n",
              "      background-color: #E8F0FE;\n",
              "      border: none;\n",
              "      border-radius: 50%;\n",
              "      cursor: pointer;\n",
              "      display: none;\n",
              "      fill: #1967D2;\n",
              "      height: 32px;\n",
              "      padding: 0 0 0 0;\n",
              "      width: 32px;\n",
              "    }\n",
              "\n",
              "    .colab-df-convert:hover {\n",
              "      background-color: #E2EBFA;\n",
              "      box-shadow: 0px 1px 2px rgba(60, 64, 67, 0.3), 0px 1px 3px 1px rgba(60, 64, 67, 0.15);\n",
              "      fill: #174EA6;\n",
              "    }\n",
              "\n",
              "    [theme=dark] .colab-df-convert {\n",
              "      background-color: #3B4455;\n",
              "      fill: #D2E3FC;\n",
              "    }\n",
              "\n",
              "    [theme=dark] .colab-df-convert:hover {\n",
              "      background-color: #434B5C;\n",
              "      box-shadow: 0px 1px 3px 1px rgba(0, 0, 0, 0.15);\n",
              "      filter: drop-shadow(0px 1px 2px rgba(0, 0, 0, 0.3));\n",
              "      fill: #FFFFFF;\n",
              "    }\n",
              "  </style>\n",
              "\n",
              "      <script>\n",
              "        const buttonEl =\n",
              "          document.querySelector('#df-64492d8d-f91f-4a06-ab1b-c57abae585da button.colab-df-convert');\n",
              "        buttonEl.style.display =\n",
              "          google.colab.kernel.accessAllowed ? 'block' : 'none';\n",
              "\n",
              "        async function convertToInteractive(key) {\n",
              "          const element = document.querySelector('#df-64492d8d-f91f-4a06-ab1b-c57abae585da');\n",
              "          const dataTable =\n",
              "            await google.colab.kernel.invokeFunction('convertToInteractive',\n",
              "                                                     [key], {});\n",
              "          if (!dataTable) return;\n",
              "\n",
              "          const docLinkHtml = 'Like what you see? Visit the ' +\n",
              "            '<a target=\"_blank\" href=https://colab.research.google.com/notebooks/data_table.ipynb>data table notebook</a>'\n",
              "            + ' to learn more about interactive tables.';\n",
              "          element.innerHTML = '';\n",
              "          dataTable['output_type'] = 'display_data';\n",
              "          await google.colab.output.renderOutput(dataTable, element);\n",
              "          const docLink = document.createElement('div');\n",
              "          docLink.innerHTML = docLinkHtml;\n",
              "          element.appendChild(docLink);\n",
              "        }\n",
              "      </script>\n",
              "    </div>\n",
              "  </div>\n",
              "  "
            ]
          },
          "metadata": {},
          "execution_count": 4
        }
      ]
    },
    {
      "cell_type": "code",
      "metadata": {
        "id": "pk4xn6BJ4B6q",
        "cellView": "form",
        "colab": {
          "base_uri": "https://localhost:8080/",
          "height": 340
        },
        "outputId": "5ce6cdde-0002-4434-d394-7d13592800e3"
      },
      "source": [
        "#@title SAMPLE PLOT - shape (480, 640, 3)\n",
        "fig = plt.figure()\n",
        "import cv2\n",
        "#add axes to the image\n",
        "ax = fig.add_axes([0,0,1,1])\n",
        "\n",
        "# read and plot the image\n",
        "image = plt.imread('/content/BCCD_Dataset/BCCD/JPEGImages/BloodImage_00001.jpg')\n",
        "plt.imshow(image)\n",
        "\n",
        "# iterating over the image for different objects\n",
        "for _,row in df[df.filename == \"1.jpg\"].iterrows():\n",
        "    xmin = row.xmin\n",
        "    xmax = row.xmax\n",
        "    ymin = row.ymin\n",
        "    ymax = row.ymax\n",
        "    \n",
        "    width = xmax - xmin\n",
        "    height = ymax - ymin\n",
        "    \n",
        "    # assign different color to different classes of objects\n",
        "    if row.cell_type == 'RBC':\n",
        "        edgecolor = 'r'\n",
        "        ax.annotate('RBC', xy=(xmax-40,ymin+20))\n",
        "    elif row.cell_type == 'WBC':\n",
        "        edgecolor = 'b'\n",
        "        ax.annotate('WBC', xy=(xmax-40,ymin+20))\n",
        "    elif row.cell_type == 'Platelets':\n",
        "        edgecolor = 'g'\n",
        "        ax.annotate('Platelets', xy=(xmax-40,ymin+20))\n",
        "        \n",
        "    # add bounding boxes to the image\n",
        "    rect = patches.Rectangle((xmin,ymin), width, height, edgecolor = edgecolor, facecolor = 'none')\n",
        "    \n",
        "    ax.add_patch(rect)"
      ],
      "execution_count": null,
      "outputs": [
        {
          "output_type": "display_data",
          "data": {
            "text/plain": [
              "<Figure size 432x288 with 1 Axes>"
            ],
            "image/png": "[encoded data removed]"
          },
          "metadata": {
            "needs_background": "light"
          }
        }
      ]
    },
    {
      "cell_type": "markdown",
      "metadata": {
        "id": "CLnE5tWOVaKM"
      },
      "source": [
        "# Splitting into training and validation datasets"
      ]
    },
    {
      "cell_type": "code",
      "metadata": {
        "id": "gRrIQI7m8H5P",
        "colab": {
          "base_uri": "https://localhost:8080/"
        },
        "outputId": "579f079a-36ad-4f79-de1b-1814aa373949"
      },
      "source": [
        "df_train, df_valid = model_selection.train_test_split(df, test_size=0.1, random_state=13, shuffle=True)\n",
        "print(df_train.shape, df_valid.shape)"
      ],
      "execution_count": null,
      "outputs": [
        {
          "output_type": "stream",
          "name": "stdout",
          "text": [
            "(4399, 16) (489, 16)\n"
          ]
        }
      ]
    },
    {
      "cell_type": "code",
      "metadata": {
        "id": "zO6iT6rQ-2f3"
      },
      "source": [
        "os.mkdir('/content/bcc/')\n",
        "os.mkdir('/content/bcc/images/')\n",
        "os.mkdir('/content/bcc/images/train/')\n",
        "os.mkdir('/content/bcc/images/valid/')\n",
        "\n",
        "os.mkdir('/content/bcc/labels/')\n",
        "os.mkdir('/content/bcc/labels/train/')\n",
        "os.mkdir('/content/bcc/labels/valid/')"
      ],
      "execution_count": null,
      "outputs": []
    },
    {
      "cell_type": "markdown",
      "metadata": {
        "id": "bmsqg2dYACVr"
      },
      "source": [
        "# Data segregation and moving to it's corresponding folders\n",
        "- BCC\n",
        "  - Images\n",
        "    - Train (364 images [.jpg files])\n",
        "    - Valid (270 images [.jpg files])\n",
        "  - Labels\n",
        "    - Train (364 labels [.txt files])\n",
        "    - Valid (270 labels [.txt files])\n"
      ]
    },
    {
      "cell_type": "markdown",
      "metadata": {
        "id": "2IACNN0QxC4s"
      },
      "source": [
        "**STRUCTURE OF .txt FILE**\n",
        "\n",
        "- One row per object\n",
        "- Each row is class x_center y_center width height format.\n",
        "- Box coordinates must be in normalized xywh format (from 0 - 1). If your boxes  are in pixels, divide x_center and width by image width, and y_center and height by image height.\n",
        "- Class numbers are zero-indexed (start from 0).\n"
      ]
    },
    {
      "cell_type": "markdown",
      "metadata": {
        "id": "_VgUi-pQ0BZo"
      },
      "source": [
        "<img src=\"https://github.com/bala-codes/Yolo-v5_Object_Detection_Blood_Cell_Count_and_Detection/blob/master/imgs/label_txt.PNG?raw=true\" width=\"50%\">\n"
      ]
    },
    {
      "cell_type": "code",
      "metadata": {
        "id": "Bo21M14uF25h"
      },
      "source": [
        "def segregate_data(df, img_path, label_path, train_img_path, train_label_path):\n",
        "  filenames = []\n",
        "  for filename in df.filename:\n",
        "    filenames.append(filename)\n",
        "  filenames = set(filenames)\n",
        "  \n",
        "  for filename in filenames:\n",
        "    yolo_list = []\n",
        "\n",
        "    for _,row in df[df.filename == filename].iterrows():\n",
        "      yolo_list.append([row.labels, row.x_center_norm, row.y_center_norm, row.width_norm, row.height_norm])\n",
        "\n",
        "    yolo_list = np.array(yolo_list)\n",
        "    txt_filename = os.path.join(train_label_path,str(row.prev_filename.split('.')[0])+\".txt\")\n",
        "    # Save the .img & .txt files to the corresponding train and validation folders\n",
        "    np.savetxt(txt_filename, yolo_list, fmt=[\"%d\", \"%f\", \"%f\", \"%f\", \"%f\"])\n",
        "    shutil.copyfile(os.path.join(img_path,row.prev_filename), os.path.join(train_img_path,row.prev_filename))"
      ],
      "execution_count": null,
      "outputs": []
    },
    {
      "cell_type": "code",
      "metadata": {
        "id": "4uy4rLGYSBd7",
        "colab": {
          "base_uri": "https://localhost:8080/"
        },
        "outputId": "bf4c3e6b-0f2b-4bb4-c345-f636e11b9542"
      },
      "source": [
        "%%time\n",
        "src_img_path = \"/content/BCCD_Dataset/BCCD/JPEGImages/\"\n",
        "src_label_path = \"/content/BCCD_Dataset/BCCD/Annotations/\"\n",
        "\n",
        "train_img_path = \"/content/bcc/images/train\"\n",
        "train_label_path = \"/content/bcc/labels/train\"\n",
        "\n",
        "valid_img_path = \"/content/bcc/images/valid\"\n",
        "valid_label_path = \"/content/bcc/labels/valid\"\n",
        "\n",
        "segregate_data(df_train, src_img_path, src_label_path, train_img_path, train_label_path)\n",
        "segregate_data(df_valid, src_img_path, src_label_path, valid_img_path, valid_label_path)"
      ],
      "execution_count": null,
      "outputs": [
        {
          "output_type": "stream",
          "name": "stdout",
          "text": [
            "CPU times: user 1.03 s, sys: 137 ms, total: 1.16 s\n",
            "Wall time: 1.16 s\n"
          ]
        }
      ]
    },
    {
      "cell_type": "code",
      "metadata": {
        "id": "LDv31-CdS_nt",
        "colab": {
          "base_uri": "https://localhost:8080/"
        },
        "outputId": "8be0f372-ccc9-4016-b1aa-2f8ad3b5b34f"
      },
      "source": [
        "try:\n",
        "  shutil.rmtree('/content/bcc/images/train/.ipynb_checkpoints')\n",
        "except FileNotFoundError:\n",
        "  pass\n",
        "\n",
        "try:\n",
        "  shutil.rmtree('/content/bcc/images/valid/.ipynb_checkpoints')\n",
        "except FileNotFoundError:\n",
        "  pass\n",
        "\n",
        "try:\n",
        "  shutil.rmtree('/content/bcc/labels/train/.ipynb_checkpoints')\n",
        "except FileNotFoundError:\n",
        "  pass\n",
        "\n",
        "try:\n",
        "  shutil.rmtree('/content/bcc/labels/valid/.ipynb_checkpoints')\n",
        "except FileNotFoundError:\n",
        "  pass\n",
        "\n",
        "print(\"No. of Training images\", len(os.listdir('/content/bcc/images/train')))\n",
        "print(\"No. of Training labels\", len(os.listdir('/content/bcc/labels/train')))\n",
        "\n",
        "print(\"No. of valid images\", len(os.listdir('/content/bcc/images/valid')))\n",
        "print(\"No. of valid labels\", len(os.listdir('/content/bcc/labels/valid')))"
      ],
      "execution_count": null,
      "outputs": [
        {
          "output_type": "stream",
          "name": "stdout",
          "text": [
            "No. of Training images 364\n",
            "No. of Training labels 364\n",
            "No. of valid images 270\n",
            "No. of valid labels 270\n"
          ]
        }
      ]
    },
    {
      "cell_type": "markdown",
      "metadata": {
        "id": "V2uPhrQCU6vT"
      },
      "source": [
        "# **END OF DATA PRE-PROCESSING**"
      ]
    },
    {
      "cell_type": "markdown",
      "metadata": {
        "id": "gjHmEIfmWNms"
      },
      "source": [
        "#**YOLO V5 STARTS**"
      ]
    },
    {
      "cell_type": "code",
      "metadata": {
        "id": "05kiA297y2s3"
      },
      "source": [
        "!mkdir -p '/content/drive/My Drive/Machine Learning Projects/YOLO/'\n",
        "!cp -r '/content/bcc' '/content/drive/My Drive/Machine Learning Projects/YOLO/'"
      ],
      "execution_count": null,
      "outputs": []
    },
    {
      "cell_type": "markdown",
      "metadata": {
        "id": "lcA59GtHeCrd"
      },
      "source": [
        "# Cloning from the yolo v5 repo.\n",
        "More can be found at here : [yolo](https://github.com/ultralytics/yolov5)"
      ]
    },
    {
      "cell_type": "code",
      "metadata": {
        "id": "YnhcNiuTGAK7",
        "colab": {
          "base_uri": "https://localhost:8080/"
        },
        "outputId": "2f220a3e-4104-4dee-9dd3-f11994b25156"
      },
      "source": [
        "!git clone  'https://github.com/ultralytics/yolov5.git'"
      ],
      "execution_count": null,
      "outputs": [
        {
          "output_type": "stream",
          "name": "stdout",
          "text": [
            "Cloning into 'yolov5'...\n",
            "remote: Enumerating objects: 14759, done.\u001b[K\n",
            "remote: Counting objects: 100% (82/82), done.\u001b[K\n",
            "remote: Compressing objects: 100% (42/42), done.\u001b[K\n",
            "remote: Total 14759 (delta 45), reused 74 (delta 40), pack-reused 14677\u001b[K\n",
            "Receiving objects: 100% (14759/14759), 13.57 MiB | 31.88 MiB/s, done.\n",
            "Resolving deltas: 100% (10192/10192), done.\n"
          ]
        }
      ]
    },
    {
      "cell_type": "code",
      "metadata": {
        "id": "A4i0BpZIbyTz",
        "colab": {
          "base_uri": "https://localhost:8080/"
        },
        "outputId": "6755d437-52ac-4e9d-8fc6-70d7842cc2bc"
      },
      "source": [
        "!pip install -qr '/content/yolov5/requirements.txt'  # install dependencies"
      ],
      "execution_count": null,
      "outputs": [
        {
          "output_type": "stream",
          "name": "stdout",
          "text": [
            "\u001b[?25l\r\u001b[K     |▏                               | 10 kB 31.7 MB/s eta 0:00:01\r\u001b[K     |▍                               | 20 kB 37.4 MB/s eta 0:00:01\r\u001b[K     |▋                               | 30 kB 41.8 MB/s eta 0:00:01\r\u001b[K     |▉                               | 40 kB 45.5 MB/s eta 0:00:01\r\u001b[K     |█                               | 51 kB 47.6 MB/s eta 0:00:01\r\u001b[K     |█▎                              | 61 kB 51.3 MB/s eta 0:00:01\r\u001b[K     |█▌                              | 71 kB 34.0 MB/s eta 0:00:01\r\u001b[K     |█▊                              | 81 kB 34.6 MB/s eta 0:00:01\r\u001b[K     |█▉                              | 92 kB 37.2 MB/s eta 0:00:01\r\u001b[K     |██                              | 102 kB 39.1 MB/s eta 0:00:01\r\u001b[K     |██▎                             | 112 kB 39.1 MB/s eta 0:00:01\r\u001b[K     |██▌                             | 122 kB 39.1 MB/s eta 0:00:01\r\u001b[K     |██▊                             | 133 kB 39.1 MB/s eta 0:00:01\r\u001b[K     |███                             | 143 kB 39.1 MB/s eta 0:00:01\r\u001b[K     |███▏                            | 153 kB 39.1 MB/s eta 0:00:01\r\u001b[K     |███▍                            | 163 kB 39.1 MB/s eta 0:00:01\r\u001b[K     |███▌                            | 174 kB 39.1 MB/s eta 0:00:01\r\u001b[K     |███▊                            | 184 kB 39.1 MB/s eta 0:00:01\r\u001b[K     |████                            | 194 kB 39.1 MB/s eta 0:00:01\r\u001b[K     |████▏                           | 204 kB 39.1 MB/s eta 0:00:01\r\u001b[K     |████▍                           | 215 kB 39.1 MB/s eta 0:00:01\r\u001b[K     |████▋                           | 225 kB 39.1 MB/s eta 0:00:01\r\u001b[K     |████▉                           | 235 kB 39.1 MB/s eta 0:00:01\r\u001b[K     |█████                           | 245 kB 39.1 MB/s eta 0:00:01\r\u001b[K     |█████▎                          | 256 kB 39.1 MB/s eta 0:00:01\r\u001b[K     |█████▍                          | 266 kB 39.1 MB/s eta 0:00:01\r\u001b[K     |█████▋                          | 276 kB 39.1 MB/s eta 0:00:01\r\u001b[K     |█████▉                          | 286 kB 39.1 MB/s eta 0:00:01\r\u001b[K     |██████                          | 296 kB 39.1 MB/s eta 0:00:01\r\u001b[K     |██████▎                         | 307 kB 39.1 MB/s eta 0:00:01\r\u001b[K     |██████▌                         | 317 kB 39.1 MB/s eta 0:00:01\r\u001b[K     |██████▊                         | 327 kB 39.1 MB/s eta 0:00:01\r\u001b[K     |███████                         | 337 kB 39.1 MB/s eta 0:00:01\r\u001b[K     |███████                         | 348 kB 39.1 MB/s eta 0:00:01\r\u001b[K     |███████▎                        | 358 kB 39.1 MB/s eta 0:00:01\r\u001b[K     |███████▌                        | 368 kB 39.1 MB/s eta 0:00:01\r\u001b[K     |███████▊                        | 378 kB 39.1 MB/s eta 0:00:01\r\u001b[K     |████████                        | 389 kB 39.1 MB/s eta 0:00:01\r\u001b[K     |████████▏                       | 399 kB 39.1 MB/s eta 0:00:01\r\u001b[K     |████████▍                       | 409 kB 39.1 MB/s eta 0:00:01\r\u001b[K     |████████▋                       | 419 kB 39.1 MB/s eta 0:00:01\r\u001b[K     |████████▉                       | 430 kB 39.1 MB/s eta 0:00:01\r\u001b[K     |█████████                       | 440 kB 39.1 MB/s eta 0:00:01\r\u001b[K     |█████████▏                      | 450 kB 39.1 MB/s eta 0:00:01\r\u001b[K     |█████████▍                      | 460 kB 39.1 MB/s eta 0:00:01\r\u001b[K     |█████████▋                      | 471 kB 39.1 MB/s eta 0:00:01\r\u001b[K     |█████████▉                      | 481 kB 39.1 MB/s eta 0:00:01\r\u001b[K     |██████████                      | 491 kB 39.1 MB/s eta 0:00:01\r\u001b[K     |██████████▎                     | 501 kB 39.1 MB/s eta 0:00:01\r\u001b[K     |██████████▌                     | 512 kB 39.1 MB/s eta 0:00:01\r\u001b[K     |██████████▋                     | 522 kB 39.1 MB/s eta 0:00:01\r\u001b[K     |██████████▉                     | 532 kB 39.1 MB/s eta 0:00:01\r\u001b[K     |███████████                     | 542 kB 39.1 MB/s eta 0:00:01\r\u001b[K     |███████████▎                    | 552 kB 39.1 MB/s eta 0:00:01\r\u001b[K     |███████████▌                    | 563 kB 39.1 MB/s eta 0:00:01\r\u001b[K     |███████████▊                    | 573 kB 39.1 MB/s eta 0:00:01\r\u001b[K     |████████████                    | 583 kB 39.1 MB/s eta 0:00:01\r\u001b[K     |████████████▏                   | 593 kB 39.1 MB/s eta 0:00:01\r\u001b[K     |████████████▍                   | 604 kB 39.1 MB/s eta 0:00:01\r\u001b[K     |████████████▌                   | 614 kB 39.1 MB/s eta 0:00:01\r\u001b[K     |████████████▊                   | 624 kB 39.1 MB/s eta 0:00:01\r\u001b[K     |█████████████                   | 634 kB 39.1 MB/s eta 0:00:01\r\u001b[K     |█████████████▏                  | 645 kB 39.1 MB/s eta 0:00:01\r\u001b[K     |█████████████▍                  | 655 kB 39.1 MB/s eta 0:00:01\r\u001b[K     |█████████████▋                  | 665 kB 39.1 MB/s eta 0:00:01\r\u001b[K     |█████████████▉                  | 675 kB 39.1 MB/s eta 0:00:01\r\u001b[K     |██████████████                  | 686 kB 39.1 MB/s eta 0:00:01\r\u001b[K     |██████████████▏                 | 696 kB 39.1 MB/s eta 0:00:01\r\u001b[K     |██████████████▍                 | 706 kB 39.1 MB/s eta 0:00:01\r\u001b[K     |██████████████▋                 | 716 kB 39.1 MB/s eta 0:00:01\r\u001b[K     |██████████████▉                 | 727 kB 39.1 MB/s eta 0:00:01\r\u001b[K     |███████████████                 | 737 kB 39.1 MB/s eta 0:00:01\r\u001b[K     |███████████████▎                | 747 kB 39.1 MB/s eta 0:00:01\r\u001b[K     |███████████████▌                | 757 kB 39.1 MB/s eta 0:00:01\r\u001b[K     |███████████████▊                | 768 kB 39.1 MB/s eta 0:00:01\r\u001b[K     |████████████████                | 778 kB 39.1 MB/s eta 0:00:01\r\u001b[K     |████████████████                | 788 kB 39.1 MB/s eta 0:00:01\r\u001b[K     |████████████████▎               | 798 kB 39.1 MB/s eta 0:00:01\r\u001b[K     |████████████████▌               | 808 kB 39.1 MB/s eta 0:00:01\r\u001b[K     |████████████████▊               | 819 kB 39.1 MB/s eta 0:00:01\r\u001b[K     |█████████████████               | 829 kB 39.1 MB/s eta 0:00:01\r\u001b[K     |█████████████████▏              | 839 kB 39.1 MB/s eta 0:00:01\r\u001b[K     |█████████████████▍              | 849 kB 39.1 MB/s eta 0:00:01\r\u001b[K     |█████████████████▋              | 860 kB 39.1 MB/s eta 0:00:01\r\u001b[K     |█████████████████▊              | 870 kB 39.1 MB/s eta 0:00:01\r\u001b[K     |██████████████████              | 880 kB 39.1 MB/s eta 0:00:01\r\u001b[K     |██████████████████▏             | 890 kB 39.1 MB/s eta 0:00:01\r\u001b[K     |██████████████████▍             | 901 kB 39.1 MB/s eta 0:00:01\r\u001b[K     |██████████████████▋             | 911 kB 39.1 MB/s eta 0:00:01\r\u001b[K     |██████████████████▉             | 921 kB 39.1 MB/s eta 0:00:01\r\u001b[K     |███████████████████             | 931 kB 39.1 MB/s eta 0:00:01\r\u001b[K     |███████████████████▎            | 942 kB 39.1 MB/s eta 0:00:01\r\u001b[K     |███████████████████▌            | 952 kB 39.1 MB/s eta 0:00:01\r\u001b[K     |███████████████████▋            | 962 kB 39.1 MB/s eta 0:00:01\r\u001b[K     |███████████████████▉            | 972 kB 39.1 MB/s eta 0:00:01\r\u001b[K     |████████████████████            | 983 kB 39.1 MB/s eta 0:00:01\r\u001b[K     |████████████████████▎           | 993 kB 39.1 MB/s eta 0:00:01\r\u001b[K     |████████████████████▌           | 1.0 MB 39.1 MB/s eta 0:00:01\r\u001b[K     |████████████████████▊           | 1.0 MB 39.1 MB/s eta 0:00:01\r\u001b[K     |█████████████████████           | 1.0 MB 39.1 MB/s eta 0:00:01\r\u001b[K     |█████████████████████▏          | 1.0 MB 39.1 MB/s eta 0:00:01\r\u001b[K     |█████████████████████▎          | 1.0 MB 39.1 MB/s eta 0:00:01\r\u001b[K     |█████████████████████▌          | 1.1 MB 39.1 MB/s eta 0:00:01\r\u001b[K     |█████████████████████▊          | 1.1 MB 39.1 MB/s eta 0:00:01\r\u001b[K     |██████████████████████          | 1.1 MB 39.1 MB/s eta 0:00:01\r\u001b[K     |██████████████████████▏         | 1.1 MB 39.1 MB/s eta 0:00:01\r\u001b[K     |██████████████████████▍         | 1.1 MB 39.1 MB/s eta 0:00:01\r\u001b[K     |██████████████████████▋         | 1.1 MB 39.1 MB/s eta 0:00:01\r\u001b[K     |██████████████████████▉         | 1.1 MB 39.1 MB/s eta 0:00:01\r\u001b[K     |███████████████████████         | 1.1 MB 39.1 MB/s eta 0:00:01\r\u001b[K     |███████████████████████▏        | 1.1 MB 39.1 MB/s eta 0:00:01\r\u001b[K     |███████████████████████▍        | 1.1 MB 39.1 MB/s eta 0:00:01\r\u001b[K     |███████████████████████▋        | 1.2 MB 39.1 MB/s eta 0:00:01\r\u001b[K     |███████████████████████▉        | 1.2 MB 39.1 MB/s eta 0:00:01\r\u001b[K     |████████████████████████        | 1.2 MB 39.1 MB/s eta 0:00:01\r\u001b[K     |████████████████████████▎       | 1.2 MB 39.1 MB/s eta 0:00:01\r\u001b[K     |████████████████████████▌       | 1.2 MB 39.1 MB/s eta 0:00:01\r\u001b[K     |████████████████████████▊       | 1.2 MB 39.1 MB/s eta 0:00:01\r\u001b[K     |████████████████████████▉       | 1.2 MB 39.1 MB/s eta 0:00:01\r\u001b[K     |█████████████████████████       | 1.2 MB 39.1 MB/s eta 0:00:01\r\u001b[K     |█████████████████████████▎      | 1.2 MB 39.1 MB/s eta 0:00:01\r\u001b[K     |█████████████████████████▌      | 1.2 MB 39.1 MB/s eta 0:00:01\r\u001b[K     |█████████████████████████▊      | 1.3 MB 39.1 MB/s eta 0:00:01\r\u001b[K     |██████████████████████████      | 1.3 MB 39.1 MB/s eta 0:00:01\r\u001b[K     |██████████████████████████▏     | 1.3 MB 39.1 MB/s eta 0:00:01\r\u001b[K     |██████████████████████████▍     | 1.3 MB 39.1 MB/s eta 0:00:01\r\u001b[K     |██████████████████████████▌     | 1.3 MB 39.1 MB/s eta 0:00:01\r\u001b[K     |██████████████████████████▊     | 1.3 MB 39.1 MB/s eta 0:00:01\r\u001b[K     |███████████████████████████     | 1.3 MB 39.1 MB/s eta 0:00:01\r\u001b[K     |███████████████████████████▏    | 1.3 MB 39.1 MB/s eta 0:00:01\r\u001b[K     |███████████████████████████▍    | 1.3 MB 39.1 MB/s eta 0:00:01\r\u001b[K     |███████████████████████████▋    | 1.4 MB 39.1 MB/s eta 0:00:01\r\u001b[K     |███████████████████████████▉    | 1.4 MB 39.1 MB/s eta 0:00:01\r\u001b[K     |████████████████████████████    | 1.4 MB 39.1 MB/s eta 0:00:01\r\u001b[K     |████████████████████████████▎   | 1.4 MB 39.1 MB/s eta 0:00:01\r\u001b[K     |████████████████████████████▍   | 1.4 MB 39.1 MB/s eta 0:00:01\r\u001b[K     |████████████████████████████▋   | 1.4 MB 39.1 MB/s eta 0:00:01\r\u001b[K     |████████████████████████████▉   | 1.4 MB 39.1 MB/s eta 0:00:01\r\u001b[K     |█████████████████████████████   | 1.4 MB 39.1 MB/s eta 0:00:01\r\u001b[K     |█████████████████████████████▎  | 1.4 MB 39.1 MB/s eta 0:00:01\r\u001b[K     |█████████████████████████████▌  | 1.4 MB 39.1 MB/s eta 0:00:01\r\u001b[K     |█████████████████████████████▊  | 1.5 MB 39.1 MB/s eta 0:00:01\r\u001b[K     |██████████████████████████████  | 1.5 MB 39.1 MB/s eta 0:00:01\r\u001b[K     |██████████████████████████████  | 1.5 MB 39.1 MB/s eta 0:00:01\r\u001b[K     |██████████████████████████████▎ | 1.5 MB 39.1 MB/s eta 0:00:01\r\u001b[K     |██████████████████████████████▌ | 1.5 MB 39.1 MB/s eta 0:00:01\r\u001b[K     |██████████████████████████████▊ | 1.5 MB 39.1 MB/s eta 0:00:01\r\u001b[K     |███████████████████████████████ | 1.5 MB 39.1 MB/s eta 0:00:01\r\u001b[K     |███████████████████████████████▏| 1.5 MB 39.1 MB/s eta 0:00:01\r\u001b[K     |███████████████████████████████▍| 1.5 MB 39.1 MB/s eta 0:00:01\r\u001b[K     |███████████████████████████████▋| 1.5 MB 39.1 MB/s eta 0:00:01\r\u001b[K     |███████████████████████████████▉| 1.6 MB 39.1 MB/s eta 0:00:01\r\u001b[K     |████████████████████████████████| 1.6 MB 39.1 MB/s eta 0:00:01\r\u001b[K     |████████████████████████████████| 1.6 MB 39.1 MB/s \n",
            "\u001b[?25h"
          ]
        }
      ]
    },
    {
      "cell_type": "markdown",
      "metadata": {
        "id": "KUsMKPtGeUcv"
      },
      "source": [
        "# WE SHOULD CREATE A .yaml FILE AND THEN PLACE IT INSIDE THE yolov5 FOLDER"
      ]
    },
    {
      "cell_type": "markdown",
      "metadata": {
        "id": "bqymagYif3Us"
      },
      "source": [
        "#**Contents of YAML file**\n",
        "\n",
        "train: /content/bcc/images/train                    \n",
        "val: /content/bcc/images/valid\n",
        "\n",
        "nc: 3\n",
        "\n",
        "names: ['Platelets', 'RBC', 'WBC']\n"
      ]
    },
    {
      "cell_type": "markdown",
      "metadata": {
        "id": "JNUfz-i21pVU"
      },
      "source": [
        "<img src=\"https://github.com/bala-codes/Yolo-v5_Object_Detection_Blood_Cell_Count_and_Detection/blob/master/imgs/bcc_yaml.PNG?raw=true\" width=\"50%\">\n",
        "\n"
      ]
    },
    {
      "cell_type": "code",
      "metadata": {
        "id": "IgIO3balXB-B",
        "colab": {
          "base_uri": "https://localhost:8080/"
        },
        "outputId": "bc97445b-a2c0-4418-e964-7a3b0bea721e"
      },
      "source": [
        "!echo -e 'train: /content/bcc/images/train\\nval: /content/bcc/images/valid\\n\\nnc: 3\\nnames: ['Platelets', 'RBC', 'WBC']' >> bcc.yaml\n",
        "!cat 'bcc.yaml'"
      ],
      "execution_count": null,
      "outputs": [
        {
          "output_type": "stream",
          "name": "stdout",
          "text": [
            "train: /content/bcc/images/train\n",
            "val: /content/bcc/images/valid\n",
            "\n",
            "nc: 3\n",
            "names: [Platelets, RBC, WBC]\n"
          ]
        }
      ]
    },
    {
      "cell_type": "code",
      "metadata": {
        "id": "31-z05sIcMcv",
        "colab": {
          "base_uri": "https://localhost:8080/",
          "height": 36
        },
        "outputId": "a3d037f6-e900-48a7-d671-584c10ef5d26"
      },
      "source": [
        "shutil.copyfile('/content/bcc.yaml', '/content/yolov5/bcc.yaml')"
      ],
      "execution_count": null,
      "outputs": [
        {
          "output_type": "execute_result",
          "data": {
            "text/plain": [
              "'/content/yolov5/bcc.yaml'"
            ],
            "application/vnd.google.colaboratory.intrinsic+json": {
              "type": "string"
            }
          },
          "metadata": {},
          "execution_count": 15
        }
      ]
    },
    {
      "cell_type": "markdown",
      "metadata": {
        "id": "7gUcPKfsDlEQ"
      },
      "source": [
        "#**Also edit the number of classes (nc) in the ./models/*.yaml file**\n",
        "\n",
        "Choose the yolo model of your choice, here I chose yolov5s.yaml (yolo - small)\n"
      ]
    },
    {
      "cell_type": "code",
      "metadata": {
        "id": "0cXuPZjRhg3o"
      },
      "source": [
        "!sed -i 's/nc: 80/nc: 3/g' ./yolov5/models/yolov5s.yaml"
      ],
      "execution_count": null,
      "outputs": []
    },
    {
      "cell_type": "markdown",
      "metadata": {
        "id": "zL2G0EG1EJQs"
      },
      "source": [
        "<img src=\"https://cdn-images-1.medium.com/max/600/1*hCE5VwKkqHlZW466umYTTA.png\">"
      ]
    },
    {
      "cell_type": "markdown",
      "metadata": {
        "id": "g_4-F3I2gVIN"
      },
      "source": [
        "# Training command"
      ]
    },
    {
      "cell_type": "markdown",
      "metadata": {
        "id": "127Pw1oS1zzY"
      },
      "source": [
        "**Training Parameters**\n",
        "\n",
        "!python \n",
        "- <'location of train.py file'> \n",
        "- --img <'width of image'>\n",
        "- --batch <'batch size'>\n",
        "- --epochs <'no of epochs'>\n",
        "- --data <'location of the .yaml file'>\n",
        "- --cfg <'Which yolo configuration you want'>(yolov5s/yolov5m/yolov5l/yolov5x).yaml | (small, medium, large, xlarge)\n",
        "- --name <'Name of the best model after training'>"
      ]
    },
    {
      "cell_type": "markdown",
      "metadata": {
        "id": "Ztjc7_wS5z2J"
      },
      "source": [
        "**METRICS FROM TRAINING PROCESS**\n",
        "\n",
        "**No.of classes, No.of images, No.of targets, Precision (P), Recall (R), mean Average Precision (map)**\n",
        "- Class | Images | Targets | P | R | mAP@.5 | mAP@.5:.95: |\n",
        "- all   | 270    |     489 |    0.0899 |       0.827 |      0.0879 |      0.0551"
      ]
    },
    {
      "cell_type": "code",
      "metadata": {
        "id": "k3Tc61Qzd4lY"
      },
      "source": [
        "%%time\n",
        "\n",
        "!python yolov5/train.py --img 640 --batch 8 --epochs 100 --data bcc.yaml --cfg models/yolov5s.yaml --name BCCM"
      ],
      "execution_count": null,
      "outputs": []
    },
    {
      "cell_type": "code",
      "metadata": {
        "id": "i7upZcFvhWhN"
      },
      "source": [
        "# Start tensorboard (optional)\n",
        "%load_ext tensorboard\n",
        "%tensorboard --logdir runs/"
      ],
      "execution_count": null,
      "outputs": []
    },
    {
      "cell_type": "markdown",
      "metadata": {
        "id": "DJYN1lb_uV-T"
      },
      "source": [
        "#**INFERENCE**"
      ]
    },
    {
      "cell_type": "code",
      "metadata": {
        "id": "FHnXEx4subZ0"
      },
      "source": [
        "#Optimizer stripped from runs/exp2_BCCM/weights/last_BCCM.pt, 14.8MB\n",
        "#Optimizer stripped from runs/exp2_BCCM/weights/best_BCCM.pt, 14.8MB"
      ],
      "execution_count": null,
      "outputs": []
    },
    {
      "cell_type": "markdown",
      "metadata": {
        "id": "obKZFwYHvg6a"
      },
      "source": [
        "# BATCH PREDICTION\n",
        "- Results saved to inference/output\n"
      ]
    },
    {
      "cell_type": "markdown",
      "metadata": {
        "id": "jtCUnoyr7h8y"
      },
      "source": [
        "**Inference Parameters**\n",
        "\n",
        "!python \n",
        "- <'location of detect.py file'> \n",
        "- --source <'location of image/ folder to predict'>\n",
        "- --weight <'location of the saved best weights'>\n",
        "- --output <'location of output files after prediction'>"
      ]
    },
    {
      "cell_type": "code",
      "metadata": {
        "id": "PoDLzE4xu_Bo"
      },
      "source": [
        "!python yolov5/detect.py --source /content/bcc/images/valid/ --weights '/content/runs/exp0_BCCM/weights/best.pt' --output '/content/inference/output'"
      ],
      "execution_count": null,
      "outputs": []
    },
    {
      "cell_type": "code",
      "metadata": {
        "id": "1UFERGRGwOEQ"
      },
      "source": [
        "disp_images = glob('/content/inference/output/*')\n",
        "fig=plt.figure(figsize=(20, 28))\n",
        "columns = 3\n",
        "rows = 5\n",
        "for i in range(1, columns*rows +1):\n",
        "    img = np.random.choice(disp_images)\n",
        "    img = plt.imread(img)\n",
        "    fig.add_subplot(rows, columns, i)\n",
        "    plt.imshow(img)\n",
        "plt.show()"
      ],
      "execution_count": null,
      "outputs": []
    },
    {
      "cell_type": "markdown",
      "metadata": {
        "id": "wrXZ10ikvnDB"
      },
      "source": [
        "# SINGLE IMAGE PREDICTIONS\n"
      ]
    },
    {
      "cell_type": "code",
      "metadata": {
        "id": "RuIiMYKdvRi1"
      },
      "source": [
        "output = !python yolov5/detect.py --source /content/bcc/images/valid/BloodImage_00000.jpg --weights '/content/runs/exp0_BCCM/weights/best_BCCM.pt'\n",
        "print(output)"
      ],
      "execution_count": null,
      "outputs": []
    },
    {
      "cell_type": "markdown",
      "metadata": {
        "id": "-1ZarG561ak5"
      },
      "source": [
        "# You need these files, if you wish to move the model to production"
      ]
    },
    {
      "cell_type": "markdown",
      "metadata": {
        "id": "AxI5iupx_jd1"
      },
      "source": [
        "## Files"
      ]
    },
    {
      "cell_type": "code",
      "metadata": {
        "id": "NSAegF-48fHj"
      },
      "source": [
        "shutil.copyfile('/content/yolov5/detect.py', '/content/drive/My Drive/Machine Learning Projects/YOLO/SOURCE/detect.py')\n",
        "shutil.copyfile('/content/yolov5/requirements.txt', '/content/drive/My Drive/Machine Learning Projects/YOLO/SOURCE/requirements.txt')\n",
        "shutil.copyfile('/content/runs/exp2_BCCM/weights/best_BCCM.pt', '/content/drive/My Drive/Machine Learning Projects/YOLO/SOURCE/best_BCCM.pt')\n",
        "\n"
      ],
      "execution_count": null,
      "outputs": []
    },
    {
      "cell_type": "markdown",
      "metadata": {
        "id": "Kd-aarpL_lB1"
      },
      "source": [
        "## Folder"
      ]
    },
    {
      "cell_type": "code",
      "metadata": {
        "id": "I1Gup2m3vv_M"
      },
      "source": [
        "!cp -r '/content/yolov5/models' '/content/drive/My Drive/Machine Learning Projects/YOLO/SOURCE/'\n",
        "!cp -r '/content/yolov5/utils' '/content/drive/My Drive/Machine Learning Projects/YOLO/SOURCE/'\n"
      ],
      "execution_count": null,
      "outputs": []
    }
  ]
}