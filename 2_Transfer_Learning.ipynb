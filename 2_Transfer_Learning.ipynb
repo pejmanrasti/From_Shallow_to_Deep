{
  "nbformat": 4,
  "nbformat_minor": 0,
  "metadata": {
    "colab": {
      "name": "2_Transfer Learning.ipynb",
      "provenance": [],
      "collapsed_sections": [],
      "include_colab_link": true
    },
    "kernelspec": {
      "display_name": "Python 3",
      "language": "python",
      "name": "python3"
    },
    "accelerator": "GPU"
  },
  "cells": [
    {
      "cell_type": "markdown",
      "metadata": {
        "id": "view-in-github",
        "colab_type": "text"
      },
      "source": [
        "<a href=\"https://colab.research.google.com/github/pejmanrasti/From_Shallow_to_Deep/blob/main/2_Transfer_Learning.ipynb\" target=\"_parent\"><img src=\"https://colab.research.google.com/assets/colab-badge.svg\" alt=\"Open In Colab\"/></a>"
      ]
    },
    {
      "cell_type": "code",
      "metadata": {
        "id": "-LwMErUE4nqh",
        "colab": {
          "base_uri": "https://localhost:8080/"
        },
        "outputId": "569f645b-11b3-4f1c-838a-a9dd364fd8df"
      },
      "source": [
        "%tensorflow_version 1.x\n",
        "%matplotlib inline"
      ],
      "execution_count": 1,
      "outputs": [
        {
          "output_type": "stream",
          "name": "stdout",
          "text": [
            "TensorFlow 1.x selected.\n"
          ]
        }
      ]
    },
    {
      "cell_type": "markdown",
      "metadata": {
        "id": "GNk9xoejq0Gu"
      },
      "source": [
        "# **Make your fist experience with Tensorflow-Keras**\n",
        "Our goal is to use transfer learning to learn an accurate image classifier from a relatively small number of training samples. Generally speaking, transfer learning refers to the process of leveraging the knowledge learned in one model for the training of another model.."
      ]
    },
    {
      "cell_type": "markdown",
      "metadata": {
        "id": "rUaYe-8hrq0a"
      },
      "source": [
        "## Loading Training and Validation Data\n",
        "\n",
        "we use the dataset [CalTech-101](http://www.vision.caltech.edu/Image_Datasets/Caltech101/), which contains around 9000 labeled images belonging to 101 object categories. However, we will exclude 5 of the categories which have the most images. This is in order to keep the class distribution fairly balanced (around 50-100) and constrained to a smaller number of images, around 2935."
      ]
    },
    {
      "cell_type": "code",
      "metadata": {
        "id": "19s9e7VgHhmR",
        "colab": {
          "base_uri": "https://localhost:8080/"
        },
        "outputId": "bd0519e2-2177-49cb-8a93-48880f691faa"
      },
      "source": [
        "from __future__ import absolute_import, division, print_function, unicode_literals\n",
        "import tensorflow as tf\n",
        "import os\n",
        "import cv2\n",
        "import random\n",
        "import numpy as np\n",
        "from sklearn.model_selection import train_test_split\n",
        "\n",
        "! pip install TensorBoardColab\n",
        "from tensorflow.keras.models import Sequential,Model # Model type to be used\n",
        "from tensorflow.keras.layers import Dense, Activation, Dropout# Make Fully connected (FC) layers\n",
        "from tensorflow.keras.utils import to_categorical # NumPy related tools\n",
        "from tensorflow.keras.callbacks import TensorBoard  #Visulization of Accuracy and loss\n",
        "from tensorboardcolab import TensorBoardColab, TensorBoardColabCallback\n",
        "from tensorflow.keras.preprocessing.image import ImageDataGenerator\n",
        "from tensorflow.keras.layers import Conv2D, MaxPooling2D, Flatten"
      ],
      "execution_count": 2,
      "outputs": [
        {
          "output_type": "stream",
          "name": "stdout",
          "text": [
            "Collecting TensorBoardColab\n",
            "  Downloading tensorboardcolab-0.0.22.tar.gz (2.5 kB)\n",
            "Building wheels for collected packages: TensorBoardColab\n",
            "  Building wheel for TensorBoardColab (setup.py) ... \u001b[?25l\u001b[?25hdone\n",
            "  Created wheel for TensorBoardColab: filename=tensorboardcolab-0.0.22-py3-none-any.whl size=3857 sha256=9195962439213f393abc95f0ae1227eaef0e2f9f30c09575efcfdce9431beb4f\n",
            "  Stored in directory: /root/.cache/pip/wheels/69/4e/4a/1c6c267395cb10edded1050df12af165d3254cfce324e80941\n",
            "Successfully built TensorBoardColab\n",
            "Installing collected packages: TensorBoardColab\n",
            "Successfully installed TensorBoardColab-0.0.22\n"
          ]
        },
        {
          "output_type": "stream",
          "name": "stderr",
          "text": [
            "Using TensorFlow backend.\n"
          ]
        }
      ]
    },
    {
      "cell_type": "code",
      "metadata": {
        "colab": {
          "base_uri": "https://localhost:8080/"
        },
        "id": "sDOVKdaJgaRB",
        "outputId": "5ee0fa55-126f-4916-c37e-adecf2c5e7bb"
      },
      "source": [
        "from google.colab import drive\n",
        "root = '/content/gdrive/'\n",
        "drive.mount( root )"
      ],
      "execution_count": 3,
      "outputs": [
        {
          "output_type": "stream",
          "name": "stdout",
          "text": [
            "Mounted at /content/gdrive/\n"
          ]
        }
      ]
    },
    {
      "cell_type": "code",
      "metadata": {
        "id": "T6o98dJhgeMz"
      },
      "source": [
        "!unzip gdrive/My\\ Drive/data_Iran/101_ObjectCategories.zip"
      ],
      "execution_count": null,
      "outputs": []
    },
    {
      "cell_type": "code",
      "metadata": {
        "colab": {
          "base_uri": "https://localhost:8080/"
        },
        "id": "n14vJSb4jiB3",
        "outputId": "523da1d0-9549-41f9-e450-214d9aae42ea"
      },
      "source": [
        "DATADIR = \"101_ObjectCategories\"\n",
        "CATEGORIES = os.listdir(DATADIR)\n",
        "print(CATEGORIES)\n",
        "CATEGORIES = ['BACKGROUND_Google', 'Motorbikes', 'airplanes', 'Faces_easy', 'Faces']\n",
        "print(CATEGORIES)"
      ],
      "execution_count": 5,
      "outputs": [
        {
          "output_type": "stream",
          "name": "stdout",
          "text": [
            "['mayfly', 'panda', 'hedgehog', 'grand_piano', 'sea_horse', 'anchor', 'butterfly', 'elephant', 'brontosaurus', 'buddha', 'schooner', 'dollar_bill', 'ewer', 'flamingo_head', 'inline_skate', 'laptop', 'barrel', 'sunflower', 'dolphin', 'starfish', 'octopus', 'crocodile_head', 'wrench', 'minaret', 'llama', 'pyramid', 'rhino', 'soccer_ball', 'mandolin', 'Leopards', 'scissors', 'airplanes', 'strawberry', 'wheelchair', 'euphonium', 'pizza', 'Motorbikes', 'windsor_chair', 'ferry', 'umbrella', 'revolver', 'cup', 'electric_guitar', 'rooster', 'menorah', 'yin_yang', 'camera', 'stapler', 'car_side', 'ketch', 'ibis', 'pagoda', 'pigeon', 'wild_cat', 'cougar_body', 'snoopy', 'water_lilly', 'crayfish', 'ant', 'headphone', 'cougar_face', 'lamp', 'joshua_tree', 'ceiling_fan', 'dalmatian', 'chandelier', 'cannon', 'stop_sign', 'platypus', 'watch', 'bonsai', 'dragonfly', 'binocular', 'helicopter', 'garfield', 'chair', 'flamingo', 'accordion', 'gerenuk', 'Faces_easy', 'hawksbill', 'tick', 'lotus', 'emu', 'nautilus', 'scorpion', 'kangaroo', 'crab', 'okapi', 'gramophone', 'beaver', 'crocodile', 'saxophone', 'BACKGROUND_Google', 'bass', 'lobster', 'cellphone', 'trilobite', 'metronome', 'brain', 'stegosaurus', 'Faces']\n",
            "['BACKGROUND_Google', 'Motorbikes', 'airplanes', 'Faces_easy', 'Faces']\n"
          ]
        }
      ]
    },
    {
      "cell_type": "code",
      "metadata": {
        "id": "lyJ-fyinlNlT"
      },
      "source": [
        "training_data = []\n",
        "IMG_SIZE_H=224 # you need to set up a numerical value here. Useful to resize to normalize data size\n",
        "IMG_SIZE_W=224 # you need to set up a numerical value here. Useful to resize to normalize data size\n",
        "def create_training_data():\n",
        "    for category in CATEGORIES:  # do plants and weeds\n",
        "\n",
        "        path = os.path.join(DATADIR,category)  # create path to the labels\n",
        "        class_num = CATEGORIES.index(category)  # get the classification  (0 or a 1). 0=plants 1=weeds\n",
        "\n",
        "        for img in os.listdir(path):  # iterate over each image per plants and weeds\n",
        "          if img.endswith('.jpg'):\n",
        "            img_array = cv2.imread(os.path.join(path,img))  # convert to array \n",
        "            new_array = cv2.resize(img_array, (IMG_SIZE_H, IMG_SIZE_W))  # resize to normalize data size\n",
        "            training_data.append([new_array, class_num])  # add this to our training_data\n"
      ],
      "execution_count": 6,
      "outputs": []
    },
    {
      "cell_type": "code",
      "metadata": {
        "colab": {
          "base_uri": "https://localhost:8080/"
        },
        "id": "q74Y7_QzlaGr",
        "outputId": "fddd2300-9ed4-48a0-e04b-4c834829f4d7"
      },
      "source": [
        "create_training_data()  # Calling the function for reading images and labels\n",
        "print(len(training_data)) # Printing the size of the database"
      ],
      "execution_count": 7,
      "outputs": [
        {
          "output_type": "stream",
          "name": "stdout",
          "text": [
            "2935\n"
          ]
        }
      ]
    },
    {
      "cell_type": "markdown",
      "metadata": {
        "id": "7e7Oa3lXpSOA"
      },
      "source": [
        "Preparation of data for importing to Keras"
      ]
    },
    {
      "cell_type": "code",
      "metadata": {
        "colab": {
          "base_uri": "https://localhost:8080/"
        },
        "id": "QcALEpico-eS",
        "outputId": "0bdc5476-88b3-43e9-a94d-c6e4ce30f949"
      },
      "source": [
        "random.shuffle(training_data)\n",
        "X = []  # An Array for images\n",
        "y = []  # An Array for labels\n",
        "\n",
        "for features,label in training_data:   # Seperation of iamegs and labels\n",
        "    X.append(features)\n",
        "    y.append(label)\n",
        "print(np.array(X).shape) # Print the size of the database"
      ],
      "execution_count": 8,
      "outputs": [
        {
          "output_type": "stream",
          "name": "stdout",
          "text": [
            "(2935, 224, 224, 3)\n"
          ]
        }
      ]
    },
    {
      "cell_type": "code",
      "metadata": {
        "colab": {
          "base_uri": "https://localhost:8080/"
        },
        "id": "GRyYO9SUpdug",
        "outputId": "5f545688-8bc3-4fba-86dc-9cd5db5db139"
      },
      "source": [
        "X = np.array(X).reshape(-1, IMG_SIZE_H, IMG_SIZE_W, 3)  # Reshape data in a form that is suitable for keras\n",
        "print(X.shape) # Print the size of the database"
      ],
      "execution_count": 9,
      "outputs": [
        {
          "output_type": "stream",
          "name": "stdout",
          "text": [
            "(2935, 224, 224, 3)\n"
          ]
        }
      ]
    },
    {
      "cell_type": "code",
      "metadata": {
        "id": "UYXc34napn9n"
      },
      "source": [
        "X_train, X_test, y_train, y_test = train_test_split(X, y, test_size=0.3)"
      ],
      "execution_count": 10,
      "outputs": []
    },
    {
      "cell_type": "code",
      "metadata": {
        "id": "LyugMSBellom"
      },
      "source": [
        "import matplotlib.pyplot as plt\n",
        "from matplotlib.pyplot import imshow"
      ],
      "execution_count": 11,
      "outputs": []
    },
    {
      "cell_type": "code",
      "metadata": {
        "colab": {
          "base_uri": "https://localhost:8080/",
          "height": 129
        },
        "id": "LDJONvqup8Px",
        "outputId": "5a8e4c80-ecfa-4209-928b-3c57518948d3"
      },
      "source": [
        "# Display 3 images \n",
        "plt.subplot(131)\n",
        "plt.imshow(X[0,:,:,:])\n",
        "plt.axis(\"off\")\n",
        "plt.subplot(132)\n",
        "plt.imshow(X[10,:,:,:])\n",
        "plt.axis(\"off\")\n",
        "plt.subplot(133)\n",
        "plt.imshow(X[100,:,:,:]) \n",
        "plt.axis(\"off\")\n",
        "# show the plot\n",
        "plt.show()"
      ],
      "execution_count": 12,
      "outputs": [
        {
          "output_type": "display_data",
          "data": {
            "image/png": "[encoded data removed]",
            "text/plain": [
              "<Figure size 432x288 with 3 Axes>"
            ]
          },
          "metadata": {
            "needs_background": "light"
          }
        }
      ]
    },
    {
      "cell_type": "markdown",
      "metadata": {
        "id": "cEFL5miLsJAO"
      },
      "source": [
        "# **Importing necessary Libraries**"
      ]
    },
    {
      "cell_type": "markdown",
      "metadata": {
        "id": "P_gM34gjBsAW"
      },
      "source": [
        "### First training a neural net from scratch\n",
        "\n",
        "Before doing the transfer learning, let's first build a neural network from scratch for doing classification on our dataset. This will give us a baseline to compare to our transfer-learned network later.\n",
        "\n",
        "The network we will construct contains 4 alternating convolutional and max-pooling layers. After the last pooling layer, we will attach a fully-connected layer with 256 neurons then finally a softmax classification layer for our classes.\n",
        "\n"
      ]
    },
    {
      "cell_type": "code",
      "metadata": {
        "id": "-VuttSwGDQdB"
      },
      "source": [
        "# normalize data\n",
        "X_train = X_train.astype('float32') / 255.\n",
        "X_test = X_test.astype('float32') / 255.\n",
        "# one hot encode outputs\n",
        "y_train = to_categorical(y_train)\n",
        "y_test = to_categorical(y_test)"
      ],
      "execution_count": 13,
      "outputs": []
    },
    {
      "cell_type": "code",
      "metadata": {
        "id": "zsVz160NDdwF",
        "colab": {
          "base_uri": "https://localhost:8080/"
        },
        "outputId": "7cf45978-29e0-46f0-9c94-98635ae39f59"
      },
      "source": [
        "# build the network\n",
        "model = Sequential()\n",
        "\n",
        "model.add(Conv2D(32, (3, 3), input_shape=X_train.shape[1:]))\n",
        "model.add(Activation('relu'))\n",
        "model.add(MaxPooling2D(pool_size=(2, 2)))\n",
        "\n",
        "model.add(Conv2D(32, (3, 3)))\n",
        "model.add(Activation('relu'))\n",
        "model.add(MaxPooling2D(pool_size=(2, 2)))\n",
        "\n",
        "model.add(Conv2D(32, (3, 3)))\n",
        "model.add(Activation('relu'))\n",
        "model.add(MaxPooling2D(pool_size=(2, 2)))\n",
        "\n",
        "model.add(Conv2D(32, (3, 3)))\n",
        "model.add(Activation('relu'))\n",
        "model.add(MaxPooling2D(pool_size=(2, 2)))\n",
        "\n",
        "model.add(Flatten())\n",
        "model.add(Dense(256))\n",
        "model.add(Activation('relu'))\n",
        "\n",
        "model.add(Dense(5))\n",
        "model.add(Activation('softmax'))\n",
        "\n",
        "model.summary()"
      ],
      "execution_count": 14,
      "outputs": [
        {
          "output_type": "stream",
          "name": "stdout",
          "text": [
            "WARNING:tensorflow:From /tensorflow-1.15.2/python3.7/tensorflow_core/python/ops/resource_variable_ops.py:1630: calling BaseResourceVariable.__init__ (from tensorflow.python.ops.resource_variable_ops) with constraint is deprecated and will be removed in a future version.\n",
            "Instructions for updating:\n",
            "If using Keras pass *_constraint arguments to layers.\n",
            "Model: \"sequential\"\n",
            "_________________________________________________________________\n",
            "Layer (type)                 Output Shape              Param #   \n",
            "=================================================================\n",
            "conv2d (Conv2D)              (None, 222, 222, 32)      896       \n",
            "_________________________________________________________________\n",
            "activation (Activation)      (None, 222, 222, 32)      0         \n",
            "_________________________________________________________________\n",
            "max_pooling2d (MaxPooling2D) (None, 111, 111, 32)      0         \n",
            "_________________________________________________________________\n",
            "conv2d_1 (Conv2D)            (None, 109, 109, 32)      9248      \n",
            "_________________________________________________________________\n",
            "activation_1 (Activation)    (None, 109, 109, 32)      0         \n",
            "_________________________________________________________________\n",
            "max_pooling2d_1 (MaxPooling2 (None, 54, 54, 32)        0         \n",
            "_________________________________________________________________\n",
            "conv2d_2 (Conv2D)            (None, 52, 52, 32)        9248      \n",
            "_________________________________________________________________\n",
            "activation_2 (Activation)    (None, 52, 52, 32)        0         \n",
            "_________________________________________________________________\n",
            "max_pooling2d_2 (MaxPooling2 (None, 26, 26, 32)        0         \n",
            "_________________________________________________________________\n",
            "conv2d_3 (Conv2D)            (None, 24, 24, 32)        9248      \n",
            "_________________________________________________________________\n",
            "activation_3 (Activation)    (None, 24, 24, 32)        0         \n",
            "_________________________________________________________________\n",
            "max_pooling2d_3 (MaxPooling2 (None, 12, 12, 32)        0         \n",
            "_________________________________________________________________\n",
            "flatten (Flatten)            (None, 4608)              0         \n",
            "_________________________________________________________________\n",
            "dense (Dense)                (None, 256)               1179904   \n",
            "_________________________________________________________________\n",
            "activation_4 (Activation)    (None, 256)               0         \n",
            "_________________________________________________________________\n",
            "dense_1 (Dense)              (None, 5)                 1285      \n",
            "_________________________________________________________________\n",
            "activation_5 (Activation)    (None, 5)                 0         \n",
            "=================================================================\n",
            "Total params: 1,209,829\n",
            "Trainable params: 1,209,829\n",
            "Non-trainable params: 0\n",
            "_________________________________________________________________\n"
          ]
        }
      ]
    },
    {
      "cell_type": "code",
      "metadata": {
        "id": "bH9KNpw-FMZP",
        "colab": {
          "base_uri": "https://localhost:8080/"
        },
        "outputId": "69724266-d6c4-4b7c-d591-eb760e47d1c8"
      },
      "source": [
        "tbcCNN=TensorBoardColab()"
      ],
      "execution_count": 15,
      "outputs": [
        {
          "output_type": "stream",
          "name": "stdout",
          "text": [
            "Wait for 8 seconds...\n",
            "TensorBoard link:\n",
            "https://ff45-35-202-157-76.ngrok.io\n"
          ]
        }
      ]
    },
    {
      "cell_type": "code",
      "metadata": {
        "id": "eool4avfx5Eq"
      },
      "source": [
        "early_stop = tf.keras.callbacks.EarlyStopping(\n",
        "    monitor='val_loss', patience=10, verbose=1, mode='auto') #Stop training when a monitored metric has stopped improving.\n",
        "\n",
        "checkpoint_filepath = 'checkpointCNN.h5'\n",
        "Model_check = tf.keras.callbacks.ModelCheckpoint(\n",
        "    checkpoint_filepath, monitor='val_loss', verbose=1, save_best_only=True, mode='auto') #Callback to save the Keras model or model weights at some frequency."
      ],
      "execution_count": 16,
      "outputs": []
    },
    {
      "cell_type": "code",
      "metadata": {
        "id": "S2kzBiLRE3Hw",
        "colab": {
          "base_uri": "https://localhost:8080/"
        },
        "outputId": "93e63688-402b-4df0-afc7-1afe30a25daf"
      },
      "source": [
        "model.compile(loss='categorical_crossentropy', \n",
        "              optimizer='adam',\n",
        "              metrics=['accuracy'])\n",
        "\n",
        "model.fit(X_train, y_train, \n",
        "          validation_data=(X_test, y_test),\n",
        "          epochs=50, batch_size=32,\n",
        "          verbose=1,\n",
        "          callbacks=[TensorBoardColabCallback(tbcCNN),early_stop, Model_check])"
      ],
      "execution_count": 17,
      "outputs": [
        {
          "output_type": "stream",
          "name": "stdout",
          "text": [
            "Train on 2054 samples, validate on 881 samples\n",
            "WARNING:tensorflow:From /usr/local/lib/python3.7/dist-packages/tensorboardcolab/core.py:49: The name tf.summary.FileWriter is deprecated. Please use tf.compat.v1.summary.FileWriter instead.\n",
            "\n",
            "WARNING:tensorflow:From /tensorflow-1.15.2/python3.7/keras/callbacks/tensorboard_v1.py:200: The name tf.summary.merge_all is deprecated. Please use tf.compat.v1.summary.merge_all instead.\n",
            "\n",
            "Epoch 1/50\n",
            "2048/2054 [============================>.] - ETA: 0s - loss: 0.6728 - acc: 0.7402WARNING:tensorflow:From /usr/local/lib/python3.7/dist-packages/tensorboardcolab/callbacks.py:51: The name tf.Summary is deprecated. Please use tf.compat.v1.Summary instead.\n",
            "\n",
            "\n",
            "Epoch 00001: val_loss improved from inf to 0.26249, saving model to checkpointCNN.h5\n",
            "2054/2054 [==============================] - 11s 6ms/sample - loss: 0.6717 - acc: 0.7405 - val_loss: 0.2625 - val_acc: 0.9092\n",
            "Epoch 2/50\n",
            "2048/2054 [============================>.] - ETA: 0s - loss: 0.1941 - acc: 0.9316\n",
            "Epoch 00002: val_loss improved from 0.26249 to 0.18501, saving model to checkpointCNN.h5\n",
            "2054/2054 [==============================] - 5s 2ms/sample - loss: 0.1936 - acc: 0.9318 - val_loss: 0.1850 - val_acc: 0.9444\n",
            "Epoch 3/50\n",
            "2048/2054 [============================>.] - ETA: 0s - loss: 0.1115 - acc: 0.9639\n",
            "Epoch 00003: val_loss improved from 0.18501 to 0.13582, saving model to checkpointCNN.h5\n",
            "2054/2054 [==============================] - 5s 2ms/sample - loss: 0.1120 - acc: 0.9635 - val_loss: 0.1358 - val_acc: 0.9523\n",
            "Epoch 4/50\n",
            "2048/2054 [============================>.] - ETA: 0s - loss: 0.0931 - acc: 0.9697\n",
            "Epoch 00004: val_loss did not improve from 0.13582\n",
            "2054/2054 [==============================] - 5s 2ms/sample - loss: 0.0928 - acc: 0.9698 - val_loss: 0.1579 - val_acc: 0.9478\n",
            "Epoch 5/50\n",
            "2048/2054 [============================>.] - ETA: 0s - loss: 0.0544 - acc: 0.9800\n",
            "Epoch 00005: val_loss improved from 0.13582 to 0.13039, saving model to checkpointCNN.h5\n",
            "2054/2054 [==============================] - 5s 2ms/sample - loss: 0.0542 - acc: 0.9800 - val_loss: 0.1304 - val_acc: 0.9648\n",
            "Epoch 6/50\n",
            "2048/2054 [============================>.] - ETA: 0s - loss: 0.0439 - acc: 0.9863\n",
            "Epoch 00006: val_loss did not improve from 0.13039\n",
            "2054/2054 [==============================] - 5s 2ms/sample - loss: 0.0463 - acc: 0.9859 - val_loss: 0.1887 - val_acc: 0.9478\n",
            "Epoch 7/50\n",
            "2048/2054 [============================>.] - ETA: 0s - loss: 0.1083 - acc: 0.9624\n",
            "Epoch 00007: val_loss improved from 0.13039 to 0.10128, saving model to checkpointCNN.h5\n",
            "2054/2054 [==============================] - 5s 2ms/sample - loss: 0.1080 - acc: 0.9625 - val_loss: 0.1013 - val_acc: 0.9671\n",
            "Epoch 8/50\n",
            "2048/2054 [============================>.] - ETA: 0s - loss: 0.0376 - acc: 0.9902\n",
            "Epoch 00008: val_loss did not improve from 0.10128\n",
            "2054/2054 [==============================] - 5s 2ms/sample - loss: 0.0375 - acc: 0.9903 - val_loss: 0.1100 - val_acc: 0.9773\n",
            "Epoch 9/50\n",
            "2048/2054 [============================>.] - ETA: 0s - loss: 0.0168 - acc: 0.9971\n",
            "Epoch 00009: val_loss did not improve from 0.10128\n",
            "2054/2054 [==============================] - 4s 2ms/sample - loss: 0.0168 - acc: 0.9971 - val_loss: 0.1145 - val_acc: 0.9739\n",
            "Epoch 10/50\n",
            "2048/2054 [============================>.] - ETA: 0s - loss: 0.0124 - acc: 0.9980\n",
            "Epoch 00010: val_loss did not improve from 0.10128\n",
            "2054/2054 [==============================] - 5s 2ms/sample - loss: 0.0123 - acc: 0.9981 - val_loss: 0.1014 - val_acc: 0.9784\n",
            "Epoch 11/50\n",
            "2048/2054 [============================>.] - ETA: 0s - loss: 0.0077 - acc: 0.9990\n",
            "Epoch 00011: val_loss did not improve from 0.10128\n",
            "2054/2054 [==============================] - 5s 2ms/sample - loss: 0.0077 - acc: 0.9990 - val_loss: 0.1388 - val_acc: 0.9659\n",
            "Epoch 12/50\n",
            "2048/2054 [============================>.] - ETA: 0s - loss: 0.0079 - acc: 0.9990\n",
            "Epoch 00012: val_loss did not improve from 0.10128\n",
            "2054/2054 [==============================] - 4s 2ms/sample - loss: 0.0079 - acc: 0.9990 - val_loss: 0.1233 - val_acc: 0.9659\n",
            "Epoch 13/50\n",
            "2048/2054 [============================>.] - ETA: 0s - loss: 0.0112 - acc: 0.9980\n",
            "Epoch 00013: val_loss did not improve from 0.10128\n",
            "2054/2054 [==============================] - 5s 2ms/sample - loss: 0.0112 - acc: 0.9981 - val_loss: 0.1039 - val_acc: 0.9762\n",
            "Epoch 14/50\n",
            "2048/2054 [============================>.] - ETA: 0s - loss: 0.0072 - acc: 0.9985\n",
            "Epoch 00014: val_loss improved from 0.10128 to 0.09693, saving model to checkpointCNN.h5\n",
            "2054/2054 [==============================] - 5s 2ms/sample - loss: 0.0072 - acc: 0.9985 - val_loss: 0.0969 - val_acc: 0.9773\n",
            "Epoch 15/50\n",
            "2048/2054 [============================>.] - ETA: 0s - loss: 0.0098 - acc: 0.9985\n",
            "Epoch 00015: val_loss did not improve from 0.09693\n",
            "2054/2054 [==============================] - 5s 2ms/sample - loss: 0.0098 - acc: 0.9985 - val_loss: 0.1104 - val_acc: 0.9625\n",
            "Epoch 16/50\n",
            "2048/2054 [============================>.] - ETA: 0s - loss: 0.0057 - acc: 0.9990\n",
            "Epoch 00016: val_loss did not improve from 0.09693\n",
            "2054/2054 [==============================] - 5s 2ms/sample - loss: 0.0057 - acc: 0.9990 - val_loss: 0.1255 - val_acc: 0.9739\n",
            "Epoch 17/50\n",
            "2048/2054 [============================>.] - ETA: 0s - loss: 0.0096 - acc: 0.9985\n",
            "Epoch 00017: val_loss did not improve from 0.09693\n",
            "2054/2054 [==============================] - 5s 2ms/sample - loss: 0.0095 - acc: 0.9985 - val_loss: 0.1050 - val_acc: 0.9750\n",
            "Epoch 18/50\n",
            "2048/2054 [============================>.] - ETA: 0s - loss: 0.0036 - acc: 0.9990\n",
            "Epoch 00018: val_loss did not improve from 0.09693\n",
            "2054/2054 [==============================] - 5s 2ms/sample - loss: 0.0036 - acc: 0.9990 - val_loss: 0.0979 - val_acc: 0.9739\n",
            "Epoch 19/50\n",
            "2048/2054 [============================>.] - ETA: 0s - loss: 0.0055 - acc: 0.9990\n",
            "Epoch 00019: val_loss did not improve from 0.09693\n",
            "2054/2054 [==============================] - 5s 2ms/sample - loss: 0.0054 - acc: 0.9990 - val_loss: 0.1445 - val_acc: 0.9682\n",
            "Epoch 20/50\n",
            "2048/2054 [============================>.] - ETA: 0s - loss: 0.0103 - acc: 0.9980\n",
            "Epoch 00020: val_loss improved from 0.09693 to 0.09501, saving model to checkpointCNN.h5\n",
            "2054/2054 [==============================] - 5s 2ms/sample - loss: 0.0103 - acc: 0.9981 - val_loss: 0.0950 - val_acc: 0.9739\n",
            "Epoch 21/50\n",
            "2048/2054 [============================>.] - ETA: 0s - loss: 0.0075 - acc: 0.9985\n",
            "Epoch 00021: val_loss improved from 0.09501 to 0.09490, saving model to checkpointCNN.h5\n",
            "2054/2054 [==============================] - 5s 2ms/sample - loss: 0.0075 - acc: 0.9985 - val_loss: 0.0949 - val_acc: 0.9784\n",
            "Epoch 22/50\n",
            "2048/2054 [============================>.] - ETA: 0s - loss: 0.0053 - acc: 0.9990\n",
            "Epoch 00022: val_loss did not improve from 0.09490\n",
            "2054/2054 [==============================] - 5s 2ms/sample - loss: 0.0053 - acc: 0.9990 - val_loss: 0.1248 - val_acc: 0.9739\n",
            "Epoch 23/50\n",
            "2048/2054 [============================>.] - ETA: 0s - loss: 0.0079 - acc: 0.9985\n",
            "Epoch 00023: val_loss did not improve from 0.09490\n",
            "2054/2054 [==============================] - 5s 2ms/sample - loss: 0.0079 - acc: 0.9985 - val_loss: 0.1000 - val_acc: 0.9773\n",
            "Epoch 24/50\n",
            "2048/2054 [============================>.] - ETA: 0s - loss: 0.0115 - acc: 0.9966\n",
            "Epoch 00024: val_loss did not improve from 0.09490\n",
            "2054/2054 [==============================] - 5s 2ms/sample - loss: 0.0114 - acc: 0.9966 - val_loss: 0.3162 - val_acc: 0.9342\n",
            "Epoch 25/50\n",
            "2048/2054 [============================>.] - ETA: 0s - loss: 0.0964 - acc: 0.9717\n",
            "Epoch 00025: val_loss did not improve from 0.09490\n",
            "2054/2054 [==============================] - 4s 2ms/sample - loss: 0.0962 - acc: 0.9718 - val_loss: 0.1648 - val_acc: 0.9557\n",
            "Epoch 26/50\n",
            "2048/2054 [============================>.] - ETA: 0s - loss: 0.0217 - acc: 0.9941\n",
            "Epoch 00026: val_loss did not improve from 0.09490\n",
            "2054/2054 [==============================] - 5s 2ms/sample - loss: 0.0217 - acc: 0.9942 - val_loss: 0.1112 - val_acc: 0.9671\n",
            "Epoch 27/50\n",
            "2048/2054 [============================>.] - ETA: 0s - loss: 0.0215 - acc: 0.9922\n",
            "Epoch 00027: val_loss did not improve from 0.09490\n",
            "2054/2054 [==============================] - 5s 2ms/sample - loss: 0.0214 - acc: 0.9922 - val_loss: 0.1089 - val_acc: 0.9648\n",
            "Epoch 28/50\n",
            "2048/2054 [============================>.] - ETA: 0s - loss: 0.0261 - acc: 0.9927\n",
            "Epoch 00028: val_loss did not improve from 0.09490\n",
            "2054/2054 [==============================] - 5s 2ms/sample - loss: 0.0261 - acc: 0.9927 - val_loss: 0.2294 - val_acc: 0.9353\n",
            "Epoch 29/50\n",
            "2048/2054 [============================>.] - ETA: 0s - loss: 0.0201 - acc: 0.9946\n",
            "Epoch 00029: val_loss did not improve from 0.09490\n",
            "2054/2054 [==============================] - 5s 2ms/sample - loss: 0.0200 - acc: 0.9946 - val_loss: 0.1255 - val_acc: 0.9682\n",
            "Epoch 30/50\n",
            "2048/2054 [============================>.] - ETA: 0s - loss: 0.0052 - acc: 0.9990\n",
            "Epoch 00030: val_loss did not improve from 0.09490\n",
            "2054/2054 [==============================] - 5s 2ms/sample - loss: 0.0052 - acc: 0.9990 - val_loss: 0.1098 - val_acc: 0.9750\n",
            "Epoch 31/50\n",
            "2048/2054 [============================>.] - ETA: 0s - loss: 0.0076 - acc: 0.9990\n",
            "Epoch 00031: val_loss did not improve from 0.09490\n",
            "2054/2054 [==============================] - 5s 2ms/sample - loss: 0.0076 - acc: 0.9990 - val_loss: 0.1517 - val_acc: 0.9614\n",
            "Epoch 00031: early stopping\n"
          ]
        },
        {
          "output_type": "execute_result",
          "data": {
            "text/plain": [
              "<tensorflow.python.keras.callbacks.History at 0x7f9cb8f12910>"
            ]
          },
          "metadata": {},
          "execution_count": 17
        }
      ]
    },
    {
      "cell_type": "markdown",
      "metadata": {
        "id": "ipCAB6BZMZjh"
      },
      "source": [
        "**Evaluation and Prediction**\n",
        "\n",
        "We can use our model to make a prediction on new images."
      ]
    },
    {
      "cell_type": "code",
      "metadata": {
        "id": "RNFXqmiSOMtp",
        "colab": {
          "base_uri": "https://localhost:8080/"
        },
        "outputId": "67080486-f616-4fca-d19a-4a844ef1b4b6"
      },
      "source": [
        "loss, accuracy = model.evaluate(X_test, y_test, verbose=0) #Evaluation of the model on the test dataset\n",
        "print('Test loss:', loss)\n",
        "print('Test accuracy:', accuracy)"
      ],
      "execution_count": 18,
      "outputs": [
        {
          "output_type": "stream",
          "name": "stdout",
          "text": [
            "Test loss: 0.15165555163389166\n",
            "Test accuracy: 0.9614075\n"
          ]
        }
      ]
    },
    {
      "cell_type": "markdown",
      "metadata": {
        "id": "-5izEocIuFN7"
      },
      "source": [
        "Finally, we see that we have achieved a (top-1) accuracy of around 97%. That's not too bad for 2935 images, considering that if we were to use a naive strategy of taking random guesses, we would have only gotten around 1% accuracy. \n",
        "\n",
        "## Transfer learning by starting with existing network\n",
        "\n",
        "Now we can move on to the main strategy for training an image classifier on our small dataset: by starting with a larger and already trained network.\n",
        "\n",
        "To start, we will load the VGG16 from keras, which was trained on ImageNet and the weights saved online. If this is your first time loading VGG16, you'll need to wait a bit for the weights to download from the web. Once the network is loaded, we can again inspect the layers with the `summary()` method."
      ]
    },
    {
      "cell_type": "code",
      "metadata": {
        "id": "KpUDAbxiYoay",
        "colab": {
          "base_uri": "https://localhost:8080/"
        },
        "outputId": "7f23bdf6-8b4b-4778-e074-69e10df469eb"
      },
      "source": [
        "vgg = tf.keras.applications.VGG16(weights='imagenet', include_top=True)\n",
        "vgg.summary()"
      ],
      "execution_count": 19,
      "outputs": [
        {
          "output_type": "stream",
          "name": "stdout",
          "text": [
            "Downloading data from https://github.com/fchollet/deep-learning-models/releases/download/v0.1/vgg16_weights_tf_dim_ordering_tf_kernels.h5\n",
            "553467904/553467096 [==============================] - 10s 0us/step\n",
            "Model: \"vgg16\"\n",
            "_________________________________________________________________\n",
            "Layer (type)                 Output Shape              Param #   \n",
            "=================================================================\n",
            "input_1 (InputLayer)         [(None, 224, 224, 3)]     0         \n",
            "_________________________________________________________________\n",
            "block1_conv1 (Conv2D)        (None, 224, 224, 64)      1792      \n",
            "_________________________________________________________________\n",
            "block1_conv2 (Conv2D)        (None, 224, 224, 64)      36928     \n",
            "_________________________________________________________________\n",
            "block1_pool (MaxPooling2D)   (None, 112, 112, 64)      0         \n",
            "_________________________________________________________________\n",
            "block2_conv1 (Conv2D)        (None, 112, 112, 128)     73856     \n",
            "_________________________________________________________________\n",
            "block2_conv2 (Conv2D)        (None, 112, 112, 128)     147584    \n",
            "_________________________________________________________________\n",
            "block2_pool (MaxPooling2D)   (None, 56, 56, 128)       0         \n",
            "_________________________________________________________________\n",
            "block3_conv1 (Conv2D)        (None, 56, 56, 256)       295168    \n",
            "_________________________________________________________________\n",
            "block3_conv2 (Conv2D)        (None, 56, 56, 256)       590080    \n",
            "_________________________________________________________________\n",
            "block3_conv3 (Conv2D)        (None, 56, 56, 256)       590080    \n",
            "_________________________________________________________________\n",
            "block3_pool (MaxPooling2D)   (None, 28, 28, 256)       0         \n",
            "_________________________________________________________________\n",
            "block4_conv1 (Conv2D)        (None, 28, 28, 512)       1180160   \n",
            "_________________________________________________________________\n",
            "block4_conv2 (Conv2D)        (None, 28, 28, 512)       2359808   \n",
            "_________________________________________________________________\n",
            "block4_conv3 (Conv2D)        (None, 28, 28, 512)       2359808   \n",
            "_________________________________________________________________\n",
            "block4_pool (MaxPooling2D)   (None, 14, 14, 512)       0         \n",
            "_________________________________________________________________\n",
            "block5_conv1 (Conv2D)        (None, 14, 14, 512)       2359808   \n",
            "_________________________________________________________________\n",
            "block5_conv2 (Conv2D)        (None, 14, 14, 512)       2359808   \n",
            "_________________________________________________________________\n",
            "block5_conv3 (Conv2D)        (None, 14, 14, 512)       2359808   \n",
            "_________________________________________________________________\n",
            "block5_pool (MaxPooling2D)   (None, 7, 7, 512)         0         \n",
            "_________________________________________________________________\n",
            "flatten (Flatten)            (None, 25088)             0         \n",
            "_________________________________________________________________\n",
            "fc1 (Dense)                  (None, 4096)              102764544 \n",
            "_________________________________________________________________\n",
            "fc2 (Dense)                  (None, 4096)              16781312  \n",
            "_________________________________________________________________\n",
            "predictions (Dense)          (None, 1000)              4097000   \n",
            "=================================================================\n",
            "Total params: 138,357,544\n",
            "Trainable params: 138,357,544\n",
            "Non-trainable params: 0\n",
            "_________________________________________________________________\n"
          ]
        }
      ]
    },
    {
      "cell_type": "markdown",
      "metadata": {
        "id": "hLXTofcNYoa2"
      },
      "source": [
        "Notice that VGG16 is _much_ bigger than the network we constructed earlier. It contains 13 convolutional layers and two fully connected layers at the end, and has over 138 million parameters, around 100 times as many parameters than the network we made above. Like our first network, the majority of the parameters are stored in the connections leading into the first fully-connected layer.\n",
        "\n",
        "VGG16 was made to solve ImageNet, and achieves a [8.8% top-5 error rate](https://github.com/jcjohnson/cnn-benchmarks), which means that 91.2% of test samples were classified correctly within the top 5 predictions for each image.\n",
        "\n",
        "In order to use this network for our task, we \"remove\" the final classification layer, the 1000-neuron softmax layer at the end, which corresponds to ImageNet, and instead replace it with a new softmax layer for our dataset, which contains 5 neurons in the case of our dataset. \n",
        "\n",
        "In terms of implementation, it's easier to simply create a copy of VGG from its input layer until the second to last layer, and then work with that, rather than modifying the VGG object directly. So technically we never \"remove\" anything, we just circumvent/ignore it. This can be done in the following way, by using the keras `Model` class to initialize a new model whose input layer is the same as VGG but whose output layer is our new softmax layer, called `new_classification_layer`. Note: although it appears we are duplicating this large network, internally Keras is actually just copying all the layers by reference, and thus we don't need to worry about overloading the memory."
      ]
    },
    {
      "cell_type": "code",
      "metadata": {
        "id": "rFL-fLitYoa3"
      },
      "source": [
        "# make a reference to VGG's input layer\n",
        "inp = vgg.input\n",
        "\n",
        "# make a new softmax layer with num_classes neurons\n",
        "new_classification_layer = Dense(5, activation='softmax')\n",
        "\n",
        "# connect our new layer to the second to last layer in VGG, and make a reference to it\n",
        "out = new_classification_layer(vgg.layers[-2].output)\n",
        "\n",
        "# create a new network between inp and out\n",
        "model_new = Model(inp, out)\n"
      ],
      "execution_count": 20,
      "outputs": []
    },
    {
      "cell_type": "markdown",
      "metadata": {
        "id": "MBIp3fbQYoa9"
      },
      "source": [
        "We are going to retrain this network, `model_new` on our dataset and labels. But first, we need to freeze the weights and biases in all the layers in the network, except our new one at the end, with the expectation that the features that were learned in VGG should still be fairly relevant to the new image classification task. Not optimal, but most likely better than what we can train to in our limited dataset. \n",
        "\n",
        "By setting the `trainable` flag in each layer false (except our new classification layer), we ensure all the weights and biases in those layers remain fixed, and we simply train the weights in the one layer at the end. In some cases, it is desirable to *not* freeze all the pre-classification layers. If your dataset has enough samples, and doesn't resemble ImageNet very much, it might be advantageous to fine-tune some of the VGG layers along with the new classifier, or possibly even all of them. To do this, you can change the below code to make more of the layers trainable.\n",
        "\n",
        "In the case of CalTech-101, we will just do feature extraction, fearing that fine-tuning too much with this dataset may overfit. But maybe we are wrong? A good exercise would be to try out both, and compare the results.\n",
        "\n",
        "So we go ahead and freeze the layers, and compile the new model with exactly the same optimizer and loss function as in our first network, for the sake of a fair comparison. We then run `summary` again to look at the network's architecture."
      ]
    },
    {
      "cell_type": "code",
      "metadata": {
        "id": "e_n5A8oGYoa9",
        "colab": {
          "base_uri": "https://localhost:8080/"
        },
        "outputId": "39a4adfc-b6b0-4415-89b0-3fb917c324e2"
      },
      "source": [
        "# make all layers untrainable by freezing weights (except for last layer)\n",
        "for l, layer in enumerate(model_new.layers[:-1]):\n",
        "    layer.trainable = False\n",
        "\n",
        "# ensure the last layer is trainable/not frozen\n",
        "for l, layer in enumerate(model_new.layers[-1:]):\n",
        "    layer.trainable = True\n",
        "\n",
        "model_new.compile(loss='categorical_crossentropy',\n",
        "              optimizer='adam',\n",
        "              metrics=['accuracy'])\n",
        "\n",
        "model_new.summary()"
      ],
      "execution_count": 21,
      "outputs": [
        {
          "output_type": "stream",
          "name": "stdout",
          "text": [
            "Model: \"model\"\n",
            "_________________________________________________________________\n",
            "Layer (type)                 Output Shape              Param #   \n",
            "=================================================================\n",
            "input_1 (InputLayer)         [(None, 224, 224, 3)]     0         \n",
            "_________________________________________________________________\n",
            "block1_conv1 (Conv2D)        (None, 224, 224, 64)      1792      \n",
            "_________________________________________________________________\n",
            "block1_conv2 (Conv2D)        (None, 224, 224, 64)      36928     \n",
            "_________________________________________________________________\n",
            "block1_pool (MaxPooling2D)   (None, 112, 112, 64)      0         \n",
            "_________________________________________________________________\n",
            "block2_conv1 (Conv2D)        (None, 112, 112, 128)     73856     \n",
            "_________________________________________________________________\n",
            "block2_conv2 (Conv2D)        (None, 112, 112, 128)     147584    \n",
            "_________________________________________________________________\n",
            "block2_pool (MaxPooling2D)   (None, 56, 56, 128)       0         \n",
            "_________________________________________________________________\n",
            "block3_conv1 (Conv2D)        (None, 56, 56, 256)       295168    \n",
            "_________________________________________________________________\n",
            "block3_conv2 (Conv2D)        (None, 56, 56, 256)       590080    \n",
            "_________________________________________________________________\n",
            "block3_conv3 (Conv2D)        (None, 56, 56, 256)       590080    \n",
            "_________________________________________________________________\n",
            "block3_pool (MaxPooling2D)   (None, 28, 28, 256)       0         \n",
            "_________________________________________________________________\n",
            "block4_conv1 (Conv2D)        (None, 28, 28, 512)       1180160   \n",
            "_________________________________________________________________\n",
            "block4_conv2 (Conv2D)        (None, 28, 28, 512)       2359808   \n",
            "_________________________________________________________________\n",
            "block4_conv3 (Conv2D)        (None, 28, 28, 512)       2359808   \n",
            "_________________________________________________________________\n",
            "block4_pool (MaxPooling2D)   (None, 14, 14, 512)       0         \n",
            "_________________________________________________________________\n",
            "block5_conv1 (Conv2D)        (None, 14, 14, 512)       2359808   \n",
            "_________________________________________________________________\n",
            "block5_conv2 (Conv2D)        (None, 14, 14, 512)       2359808   \n",
            "_________________________________________________________________\n",
            "block5_conv3 (Conv2D)        (None, 14, 14, 512)       2359808   \n",
            "_________________________________________________________________\n",
            "block5_pool (MaxPooling2D)   (None, 7, 7, 512)         0         \n",
            "_________________________________________________________________\n",
            "flatten (Flatten)            (None, 25088)             0         \n",
            "_________________________________________________________________\n",
            "fc1 (Dense)                  (None, 4096)              102764544 \n",
            "_________________________________________________________________\n",
            "fc2 (Dense)                  (None, 4096)              16781312  \n",
            "_________________________________________________________________\n",
            "dense_2 (Dense)              (None, 5)                 20485     \n",
            "=================================================================\n",
            "Total params: 134,281,029\n",
            "Trainable params: 20,485\n",
            "Non-trainable params: 134,260,544\n",
            "_________________________________________________________________\n"
          ]
        }
      ]
    },
    {
      "cell_type": "markdown",
      "metadata": {
        "id": "8B9G0gC1YobD"
      },
      "source": [
        "Looking at the summary, we see the network is identical to the VGG model we instantiated earlier, except the last layer, formerly a 1000-neuron softmax, has been replaced by a new 5-neuron softmax. Additionally, we still have roughly 134 million weights, but now the vast majority of them are \"non-trainable params\" because we froze the layers they are contained in. We now only have 20,485 trainable parameters, which is actually less than 2% of the number of parameters needed to train the first model.\n",
        "\n",
        "As before, we go ahead and train the new model, using the same hyperparameters (batch size and number of epochs) as before, along with the same optimization algorithm. We also keep track of its history by tensorboard."
      ]
    },
    {
      "cell_type": "code",
      "metadata": {
        "colab": {
          "base_uri": "https://localhost:8080/"
        },
        "id": "0hOhKFjnvU3b",
        "outputId": "bd9cb5fc-8014-4ef6-c28b-059326685893"
      },
      "source": [
        "tbcTransfer=TensorBoardColab()"
      ],
      "execution_count": 22,
      "outputs": [
        {
          "output_type": "stream",
          "name": "stdout",
          "text": [
            "Wait for 8 seconds...\n",
            "TensorBoard link:\n",
            "http://ff45-35-202-157-76.ngrok.io\n"
          ]
        }
      ]
    },
    {
      "cell_type": "code",
      "metadata": {
        "id": "hWD5WjLWyhFo"
      },
      "source": [
        "checkpoint_filepath_transfer = 'checkpointTransfer.h5'\n",
        "Model_check_transfer = tf.keras.callbacks.ModelCheckpoint(\n",
        "    checkpoint_filepath_transfer, monitor='val_loss', verbose=1, save_best_only=True, mode='auto') #Callback to save the Keras model or model weights at some frequency."
      ],
      "execution_count": 23,
      "outputs": []
    },
    {
      "cell_type": "code",
      "metadata": {
        "colab": {
          "base_uri": "https://localhost:8080/"
        },
        "id": "192pWJx8vU3q",
        "outputId": "57e8ea2c-c01d-421c-f1bb-323098bfbdf0"
      },
      "source": [
        "model_new.fit(X_train, y_train, \n",
        "          validation_data=(X_test, y_test),\n",
        "          epochs=100, batch_size=32,\n",
        "          verbose=1,\n",
        "          callbacks=[TensorBoardColabCallback(tbcTransfer),early_stop, Model_check_transfer])"
      ],
      "execution_count": 24,
      "outputs": [
        {
          "output_type": "stream",
          "name": "stdout",
          "text": [
            "Train on 2054 samples, validate on 881 samples\n",
            "Epoch 1/100\n",
            "2048/2054 [============================>.] - ETA: 0s - loss: 0.7449 - acc: 0.7783\n",
            "Epoch 00001: val_loss improved from inf to 0.30916, saving model to checkpointTransfer.h5\n",
            "2054/2054 [==============================] - 22s 11ms/sample - loss: 0.7439 - acc: 0.7790 - val_loss: 0.3092 - val_acc: 0.9330\n",
            "Epoch 2/100\n",
            "2048/2054 [============================>.] - ETA: 0s - loss: 0.2305 - acc: 0.9604\n",
            "Epoch 00002: val_loss improved from 0.30916 to 0.20489, saving model to checkpointTransfer.h5\n",
            "2054/2054 [==============================] - 19s 9ms/sample - loss: 0.2309 - acc: 0.9601 - val_loss: 0.2049 - val_acc: 0.9716\n",
            "Epoch 3/100\n",
            "2048/2054 [============================>.] - ETA: 0s - loss: 0.1608 - acc: 0.9673\n",
            "Epoch 00003: val_loss improved from 0.20489 to 0.14355, saving model to checkpointTransfer.h5\n",
            "2054/2054 [==============================] - 19s 9ms/sample - loss: 0.1605 - acc: 0.9674 - val_loss: 0.1435 - val_acc: 0.9762\n",
            "Epoch 4/100\n",
            "2048/2054 [============================>.] - ETA: 0s - loss: 0.1287 - acc: 0.9751\n",
            "Epoch 00004: val_loss improved from 0.14355 to 0.12436, saving model to checkpointTransfer.h5\n",
            "2054/2054 [==============================] - 19s 9ms/sample - loss: 0.1286 - acc: 0.9752 - val_loss: 0.1244 - val_acc: 0.9841\n",
            "Epoch 5/100\n",
            "2048/2054 [============================>.] - ETA: 0s - loss: 0.0982 - acc: 0.9834\n",
            "Epoch 00005: val_loss improved from 0.12436 to 0.10944, saving model to checkpointTransfer.h5\n",
            "2054/2054 [==============================] - 19s 9ms/sample - loss: 0.0980 - acc: 0.9834 - val_loss: 0.1094 - val_acc: 0.9784\n",
            "Epoch 6/100\n",
            "2048/2054 [============================>.] - ETA: 0s - loss: 0.0876 - acc: 0.9849\n",
            "Epoch 00006: val_loss improved from 0.10944 to 0.10409, saving model to checkpointTransfer.h5\n",
            "2054/2054 [==============================] - 19s 9ms/sample - loss: 0.0875 - acc: 0.9849 - val_loss: 0.1041 - val_acc: 0.9716\n",
            "Epoch 7/100\n",
            "2048/2054 [============================>.] - ETA: 0s - loss: 0.0768 - acc: 0.9863\n",
            "Epoch 00007: val_loss improved from 0.10409 to 0.09939, saving model to checkpointTransfer.h5\n",
            "2054/2054 [==============================] - 19s 9ms/sample - loss: 0.0766 - acc: 0.9864 - val_loss: 0.0994 - val_acc: 0.9773\n",
            "Epoch 8/100\n",
            "2048/2054 [============================>.] - ETA: 0s - loss: 0.0699 - acc: 0.9863\n",
            "Epoch 00008: val_loss improved from 0.09939 to 0.07289, saving model to checkpointTransfer.h5\n",
            "2054/2054 [==============================] - 19s 9ms/sample - loss: 0.0699 - acc: 0.9864 - val_loss: 0.0729 - val_acc: 0.9875\n",
            "Epoch 9/100\n",
            "2048/2054 [============================>.] - ETA: 0s - loss: 0.0594 - acc: 0.9888\n",
            "Epoch 00009: val_loss did not improve from 0.07289\n",
            "2054/2054 [==============================] - 17s 8ms/sample - loss: 0.0606 - acc: 0.9883 - val_loss: 0.0866 - val_acc: 0.9796\n",
            "Epoch 10/100\n",
            "2048/2054 [============================>.] - ETA: 0s - loss: 0.0635 - acc: 0.9863\n",
            "Epoch 00010: val_loss did not improve from 0.07289\n",
            "2054/2054 [==============================] - 17s 8ms/sample - loss: 0.0634 - acc: 0.9864 - val_loss: 0.1053 - val_acc: 0.9694\n",
            "Epoch 11/100\n",
            "2048/2054 [============================>.] - ETA: 0s - loss: 0.0604 - acc: 0.9844\n",
            "Epoch 00011: val_loss improved from 0.07289 to 0.06895, saving model to checkpointTransfer.h5\n",
            "2054/2054 [==============================] - 19s 9ms/sample - loss: 0.0603 - acc: 0.9844 - val_loss: 0.0690 - val_acc: 0.9830\n",
            "Epoch 12/100\n",
            "2048/2054 [============================>.] - ETA: 0s - loss: 0.0506 - acc: 0.9897\n",
            "Epoch 00012: val_loss improved from 0.06895 to 0.06171, saving model to checkpointTransfer.h5\n",
            "2054/2054 [==============================] - 19s 9ms/sample - loss: 0.0505 - acc: 0.9898 - val_loss: 0.0617 - val_acc: 0.9830\n",
            "Epoch 13/100\n",
            "2048/2054 [============================>.] - ETA: 0s - loss: 0.0421 - acc: 0.9937\n",
            "Epoch 00013: val_loss did not improve from 0.06171\n",
            "2054/2054 [==============================] - 17s 8ms/sample - loss: 0.0420 - acc: 0.9937 - val_loss: 0.0762 - val_acc: 0.9796\n",
            "Epoch 14/100\n",
            "2048/2054 [============================>.] - ETA: 0s - loss: 0.0446 - acc: 0.9922\n",
            "Epoch 00014: val_loss did not improve from 0.06171\n",
            "2054/2054 [==============================] - 17s 8ms/sample - loss: 0.0445 - acc: 0.9922 - val_loss: 0.0660 - val_acc: 0.9818\n",
            "Epoch 15/100\n",
            "2048/2054 [============================>.] - ETA: 0s - loss: 0.0431 - acc: 0.9917\n",
            "Epoch 00015: val_loss improved from 0.06171 to 0.05423, saving model to checkpointTransfer.h5\n",
            "2054/2054 [==============================] - 19s 9ms/sample - loss: 0.0431 - acc: 0.9917 - val_loss: 0.0542 - val_acc: 0.9852\n",
            "Epoch 16/100\n",
            "2048/2054 [============================>.] - ETA: 0s - loss: 0.0374 - acc: 0.9932\n",
            "Epoch 00016: val_loss did not improve from 0.05423\n",
            "2054/2054 [==============================] - 18s 9ms/sample - loss: 0.0374 - acc: 0.9932 - val_loss: 0.0550 - val_acc: 0.9864\n",
            "Epoch 17/100\n",
            "2048/2054 [============================>.] - ETA: 0s - loss: 0.0393 - acc: 0.9932\n",
            "Epoch 00017: val_loss improved from 0.05423 to 0.05372, saving model to checkpointTransfer.h5\n",
            "2054/2054 [==============================] - 19s 9ms/sample - loss: 0.0393 - acc: 0.9932 - val_loss: 0.0537 - val_acc: 0.9841\n",
            "Epoch 18/100\n",
            "2048/2054 [============================>.] - ETA: 0s - loss: 0.0343 - acc: 0.9966\n",
            "Epoch 00018: val_loss improved from 0.05372 to 0.05280, saving model to checkpointTransfer.h5\n",
            "2054/2054 [==============================] - 19s 9ms/sample - loss: 0.0342 - acc: 0.9966 - val_loss: 0.0528 - val_acc: 0.9841\n",
            "Epoch 19/100\n",
            "2048/2054 [============================>.] - ETA: 0s - loss: 0.0315 - acc: 0.9951\n",
            "Epoch 00019: val_loss did not improve from 0.05280\n",
            "2054/2054 [==============================] - 18s 9ms/sample - loss: 0.0314 - acc: 0.9951 - val_loss: 0.0655 - val_acc: 0.9818\n",
            "Epoch 20/100\n",
            "2048/2054 [============================>.] - ETA: 0s - loss: 0.0331 - acc: 0.9961\n",
            "Epoch 00020: val_loss improved from 0.05280 to 0.05052, saving model to checkpointTransfer.h5\n",
            "2054/2054 [==============================] - 19s 9ms/sample - loss: 0.0330 - acc: 0.9961 - val_loss: 0.0505 - val_acc: 0.9830\n",
            "Epoch 21/100\n",
            "2048/2054 [============================>.] - ETA: 0s - loss: 0.0291 - acc: 0.9971\n",
            "Epoch 00021: val_loss improved from 0.05052 to 0.04772, saving model to checkpointTransfer.h5\n",
            "2054/2054 [==============================] - 19s 9ms/sample - loss: 0.0290 - acc: 0.9971 - val_loss: 0.0477 - val_acc: 0.9864\n",
            "Epoch 22/100\n",
            "2048/2054 [============================>.] - ETA: 0s - loss: 0.0297 - acc: 0.9961\n",
            "Epoch 00022: val_loss improved from 0.04772 to 0.04634, saving model to checkpointTransfer.h5\n",
            "2054/2054 [==============================] - 19s 9ms/sample - loss: 0.0297 - acc: 0.9961 - val_loss: 0.0463 - val_acc: 0.9852\n",
            "Epoch 23/100\n",
            "2048/2054 [============================>.] - ETA: 0s - loss: 0.0276 - acc: 0.9976\n",
            "Epoch 00023: val_loss did not improve from 0.04634\n",
            "2054/2054 [==============================] - 18s 9ms/sample - loss: 0.0276 - acc: 0.9976 - val_loss: 0.0676 - val_acc: 0.9807\n",
            "Epoch 24/100\n",
            "2048/2054 [============================>.] - ETA: 0s - loss: 0.0245 - acc: 0.9961\n",
            "Epoch 00024: val_loss did not improve from 0.04634\n",
            "2054/2054 [==============================] - 18s 9ms/sample - loss: 0.0245 - acc: 0.9961 - val_loss: 0.0571 - val_acc: 0.9841\n",
            "Epoch 25/100\n",
            "2048/2054 [============================>.] - ETA: 0s - loss: 0.0302 - acc: 0.9941\n",
            "Epoch 00025: val_loss did not improve from 0.04634\n",
            "2054/2054 [==============================] - 18s 9ms/sample - loss: 0.0301 - acc: 0.9942 - val_loss: 0.0603 - val_acc: 0.9818\n",
            "Epoch 26/100\n",
            "2048/2054 [============================>.] - ETA: 0s - loss: 0.0276 - acc: 0.9956\n",
            "Epoch 00026: val_loss did not improve from 0.04634\n",
            "2054/2054 [==============================] - 18s 9ms/sample - loss: 0.0275 - acc: 0.9956 - val_loss: 0.0545 - val_acc: 0.9841\n",
            "Epoch 27/100\n",
            "2048/2054 [============================>.] - ETA: 0s - loss: 0.0252 - acc: 0.9966\n",
            "Epoch 00027: val_loss improved from 0.04634 to 0.04249, saving model to checkpointTransfer.h5\n",
            "2054/2054 [==============================] - 19s 9ms/sample - loss: 0.0251 - acc: 0.9966 - val_loss: 0.0425 - val_acc: 0.9852\n",
            "Epoch 28/100\n",
            "2048/2054 [============================>.] - ETA: 0s - loss: 0.0244 - acc: 0.9966\n",
            "Epoch 00028: val_loss did not improve from 0.04249\n",
            "2054/2054 [==============================] - 18s 9ms/sample - loss: 0.0243 - acc: 0.9966 - val_loss: 0.0527 - val_acc: 0.9830\n",
            "Epoch 29/100\n",
            "2048/2054 [============================>.] - ETA: 0s - loss: 0.0227 - acc: 0.9976\n",
            "Epoch 00029: val_loss did not improve from 0.04249\n",
            "2054/2054 [==============================] - 18s 9ms/sample - loss: 0.0240 - acc: 0.9971 - val_loss: 0.0730 - val_acc: 0.9739\n",
            "Epoch 30/100\n",
            "2048/2054 [============================>.] - ETA: 0s - loss: 0.0536 - acc: 0.9844\n",
            "Epoch 00030: val_loss did not improve from 0.04249\n",
            "2054/2054 [==============================] - 18s 9ms/sample - loss: 0.0535 - acc: 0.9844 - val_loss: 0.0469 - val_acc: 0.9841\n",
            "Epoch 31/100\n",
            "2048/2054 [============================>.] - ETA: 0s - loss: 0.0220 - acc: 0.9976\n",
            "Epoch 00031: val_loss improved from 0.04249 to 0.04168, saving model to checkpointTransfer.h5\n",
            "2054/2054 [==============================] - 20s 9ms/sample - loss: 0.0219 - acc: 0.9976 - val_loss: 0.0417 - val_acc: 0.9864\n",
            "Epoch 32/100\n",
            "2048/2054 [============================>.] - ETA: 0s - loss: 0.0225 - acc: 0.9966\n",
            "Epoch 00032: val_loss did not improve from 0.04168\n",
            "2054/2054 [==============================] - 18s 9ms/sample - loss: 0.0224 - acc: 0.9966 - val_loss: 0.0533 - val_acc: 0.9807\n",
            "Epoch 33/100\n",
            "2048/2054 [============================>.] - ETA: 0s - loss: 0.0264 - acc: 0.9922\n",
            "Epoch 00033: val_loss did not improve from 0.04168\n",
            "2054/2054 [==============================] - 18s 9ms/sample - loss: 0.0263 - acc: 0.9922 - val_loss: 0.0717 - val_acc: 0.9762\n",
            "Epoch 34/100\n",
            "2048/2054 [============================>.] - ETA: 0s - loss: 0.0236 - acc: 0.9951\n",
            "Epoch 00034: val_loss did not improve from 0.04168\n",
            "2054/2054 [==============================] - 18s 9ms/sample - loss: 0.0236 - acc: 0.9951 - val_loss: 0.0463 - val_acc: 0.9875\n",
            "Epoch 35/100\n",
            "2048/2054 [============================>.] - ETA: 0s - loss: 0.0186 - acc: 0.9971\n",
            "Epoch 00035: val_loss did not improve from 0.04168\n",
            "2054/2054 [==============================] - 18s 9ms/sample - loss: 0.0185 - acc: 0.9971 - val_loss: 0.0634 - val_acc: 0.9784\n",
            "Epoch 36/100\n",
            "2048/2054 [============================>.] - ETA: 0s - loss: 0.0170 - acc: 0.9980\n",
            "Epoch 00036: val_loss did not improve from 0.04168\n",
            "2054/2054 [==============================] - 18s 9ms/sample - loss: 0.0170 - acc: 0.9981 - val_loss: 0.0475 - val_acc: 0.9852\n",
            "Epoch 37/100\n",
            "2048/2054 [============================>.] - ETA: 0s - loss: 0.0158 - acc: 0.9985\n",
            "Epoch 00037: val_loss did not improve from 0.04168\n",
            "2054/2054 [==============================] - 18s 9ms/sample - loss: 0.0158 - acc: 0.9985 - val_loss: 0.0449 - val_acc: 0.9875\n",
            "Epoch 38/100\n",
            "2048/2054 [============================>.] - ETA: 0s - loss: 0.0228 - acc: 0.9946\n",
            "Epoch 00038: val_loss did not improve from 0.04168\n",
            "2054/2054 [==============================] - 18s 9ms/sample - loss: 0.0227 - acc: 0.9946 - val_loss: 0.0528 - val_acc: 0.9830\n",
            "Epoch 39/100\n",
            "2048/2054 [============================>.] - ETA: 0s - loss: 0.0199 - acc: 0.9980\n",
            "Epoch 00039: val_loss did not improve from 0.04168\n",
            "2054/2054 [==============================] - 18s 9ms/sample - loss: 0.0199 - acc: 0.9981 - val_loss: 0.0538 - val_acc: 0.9807\n",
            "Epoch 40/100\n",
            "2048/2054 [============================>.] - ETA: 0s - loss: 0.0146 - acc: 0.9985\n",
            "Epoch 00040: val_loss did not improve from 0.04168\n",
            "2054/2054 [==============================] - 17s 9ms/sample - loss: 0.0146 - acc: 0.9985 - val_loss: 0.0539 - val_acc: 0.9830\n",
            "Epoch 41/100\n",
            "2048/2054 [============================>.] - ETA: 0s - loss: 0.0170 - acc: 0.9980\n",
            "Epoch 00041: val_loss did not improve from 0.04168\n",
            "2054/2054 [==============================] - 18s 9ms/sample - loss: 0.0170 - acc: 0.9981 - val_loss: 0.0530 - val_acc: 0.9818\n",
            "Epoch 00041: early stopping\n"
          ]
        },
        {
          "output_type": "execute_result",
          "data": {
            "text/plain": [
              "<tensorflow.python.keras.callbacks.History at 0x7f9cb00aa990>"
            ]
          },
          "metadata": {},
          "execution_count": 24
        }
      ]
    },
    {
      "cell_type": "markdown",
      "metadata": {
        "id": "jPqJ0OM8YobI"
      },
      "source": [
        "Our validation accuracy hovers close to 98% towards the end, which is more than 2% improvement on the original network trained from scratch. \n"
      ]
    },
    {
      "cell_type": "markdown",
      "metadata": {
        "id": "6rCYqIeW8AMZ"
      },
      "source": [
        "**Evaluation and Prediction**\n",
        "\n",
        "We can use our model to make a prediction on new images."
      ]
    },
    {
      "cell_type": "code",
      "metadata": {
        "id": "NULCnZ5X8AMa"
      },
      "source": [
        "model_New_load = tf.keras.models.load_model('checkpointTransfer.h5')\n",
        "loss, accuracy = model_New_load.evaluate(X_test, y_test, verbose=0) #Evaluation of the model on the test dataset\n",
        "print('Test loss:', loss)\n",
        "print('Test accuracy:', accuracy)"
      ],
      "execution_count": null,
      "outputs": []
    }
  ]
}